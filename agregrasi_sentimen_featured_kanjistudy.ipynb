{
 "cells": [
  {
   "cell_type": "code",
   "execution_count": 1,
   "id": "f773ad8f",
   "metadata": {},
   "outputs": [],
   "source": [
    "import pickle\n",
    "import numpy as np\n",
    "import pandas as pd\n",
    "from tensorflow.keras.models import load_model\n",
    "from tensorflow.keras.preprocessing.sequence import pad_sequences"
   ]
  },
  {
   "cell_type": "code",
   "execution_count": 2,
   "id": "3c8ba4b5",
   "metadata": {},
   "outputs": [
    {
     "name": "stderr",
     "output_type": "stream",
     "text": [
      "WARNING:absl:Compiled the loaded model, but the compiled metrics have yet to be built. `model.compile_metrics` will be empty until you train or evaluate the model.\n"
     ]
    }
   ],
   "source": [
    "# Load model\n",
    "model = load_model(r'C:\\Latihan_Python\\casptone-project-dicoding_nihongonavigator\\best_model_lstm.h5')\n",
    "\n",
    "# Load tokenizer\n",
    "with open(r'C:\\Latihan_Python\\casptone-project-dicoding_nihongonavigator\\tokenizer_lstm.pkl', 'rb') as f:\n",
    "    tokenizer = pickle.load(f)\n",
    "\n",
    "# Load label encoder (opsional, kalau kamu ingin mengembalikan ke 'positive', dll)\n",
    "with open(r'C:\\Latihan_Python\\casptone-project-dicoding_nihongonavigator\\label_encoder.pkl', 'rb') as f:\n",
    "    label_encoder = pickle.load(f)"
   ]
  },
  {
   "cell_type": "code",
   "execution_count": 3,
   "id": "b1e8cd7c",
   "metadata": {},
   "outputs": [],
   "source": [
    "def predict_lstm_sentiment(df, model, tokenizer, max_len=200):\n",
    "    # Ubah ke urutan angka\n",
    "    sequences = tokenizer.texts_to_sequences(df['text_final_stemmed'])\n",
    "    padded = pad_sequences(sequences, maxlen=max_len, padding='post')\n",
    "\n",
    "    # Prediksi\n",
    "    probs = model.predict(padded)\n",
    "    pred_indices = np.argmax(probs, axis=1)\n",
    "    \n",
    "    # Jika pakai label_encoder\n",
    "    pred_labels = label_encoder.inverse_transform(pred_indices)\n",
    "\n",
    "    # Tambahkan ke DataFrame\n",
    "    df['sentiment_pred'] = pred_labels\n",
    "    return df\n"
   ]
  },
  {
   "cell_type": "code",
   "execution_count": 4,
   "id": "4e5ffac3",
   "metadata": {},
   "outputs": [],
   "source": [
    "df_RevKanjistudy_featured = pd.read_csv(r\"C:\\Latihan_Python\\casptone-project-dicoding_nihongonavigator\\preprocessed_with_features\\review_kanjistudy_processedtext_with_features.csv\")"
   ]
  },
  {
   "cell_type": "code",
   "execution_count": 5,
   "id": "cf1ea96c",
   "metadata": {},
   "outputs": [
    {
     "name": "stdout",
     "output_type": "stream",
     "text": [
      "\u001b[1m7/7\u001b[0m \u001b[32m━━━━━━━━━━━━━━━━━━━━\u001b[0m\u001b[37m\u001b[0m \u001b[1m4s\u001b[0m 408ms/step\n"
     ]
    }
   ],
   "source": [
    "df_RevKanjistudy_featured_labeled = predict_lstm_sentiment(df_RevKanjistudy_featured, model, tokenizer)"
   ]
  },
  {
   "cell_type": "code",
   "execution_count": 6,
   "id": "a9099893",
   "metadata": {},
   "outputs": [],
   "source": [
    "df_RevKanjistudy_featured_labeled.to_csv(r\"C:\\Latihan_Python\\casptone-project-dicoding_nihongonavigator\\featured_labeled_lstm_data\\review_kanjistudy_processedtext_with_features_labeled.csv\", index=False)"
   ]
  },
  {
   "cell_type": "code",
   "execution_count": 7,
   "id": "0ae3765b",
   "metadata": {},
   "outputs": [],
   "source": [
    "from collections import defaultdict\n",
    "import ast"
   ]
  },
  {
   "cell_type": "code",
   "execution_count": 8,
   "id": "4b5c6ec6",
   "metadata": {},
   "outputs": [],
   "source": [
    "def safe_parse_fitur(x):\n",
    "    if isinstance(x, list):\n",
    "        return x\n",
    "    elif isinstance(x, str):\n",
    "        try:\n",
    "            return ast.literal_eval(x)\n",
    "        except:\n",
    "            return [x]  # fallback: buat jadi list satu elemen\n",
    "    else:\n",
    "        return []\n",
    "\n",
    "# Terapkan ke kolom\n",
    "df_RevKanjistudy_featured_labeled['fitur'] = df_RevKanjistudy_featured_labeled['fitur_terdeteksi'].apply(safe_parse_fitur)"
   ]
  },
  {
   "cell_type": "code",
   "execution_count": 9,
   "id": "73fb1b7b",
   "metadata": {},
   "outputs": [],
   "source": [
    "def aggregate_sentiment_by_feature_split(df):\n",
    "    result = defaultdict(lambda: {'positive': 0, 'negative': 0})\n",
    "\n",
    "    for _, row in df.iterrows():\n",
    "        sentiment = row['sentiment_pred']  # 'positive' atau 'negative'\n",
    "        fitur_raw = row['fitur_terdeteksi']\n",
    "\n",
    "        # Jika fitur masih string dengan koma, pisahkan\n",
    "        if isinstance(fitur_raw, str):\n",
    "            fitur_list = [f.strip() for f in fitur_raw.split(',')]\n",
    "        else:\n",
    "            fitur_list = fitur_raw  # kalau sudah list\n",
    "\n",
    "        for fitur in fitur_list:\n",
    "            if sentiment == 'positive':\n",
    "                result[fitur]['positive'] += 1\n",
    "            elif sentiment == 'negative':\n",
    "                result[fitur]['negative'] += 1\n",
    "\n",
    "    return result\n"
   ]
  },
  {
   "cell_type": "code",
   "execution_count": 10,
   "id": "d6bcfdc8",
   "metadata": {},
   "outputs": [],
   "source": [
    "import json\n",
    "\n",
    "result_dict = aggregate_sentiment_by_feature_split(df_RevKanjistudy_featured_labeled)\n",
    "\n",
    "# Simpan ke file JSON\n",
    "with open(r'C:\\Latihan_Python\\casptone-project-dicoding_nihongonavigator\\final_labeled_agregat_data\\hasil_sentimen_kanjistudy_agregat.json', 'w', encoding='utf-8') as f:\n",
    "    json.dump(result_dict, f, ensure_ascii=False, indent=2)\n"
   ]
  }
 ],
 "metadata": {
  "kernelspec": {
   "display_name": "virtual_env",
   "language": "python",
   "name": "python3"
  },
  "language_info": {
   "codemirror_mode": {
    "name": "ipython",
    "version": 3
   },
   "file_extension": ".py",
   "mimetype": "text/x-python",
   "name": "python",
   "nbconvert_exporter": "python",
   "pygments_lexer": "ipython3",
   "version": "3.11.9"
  }
 },
 "nbformat": 4,
 "nbformat_minor": 5
}
