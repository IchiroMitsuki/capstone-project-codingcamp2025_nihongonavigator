{
 "cells": [
  {
   "cell_type": "code",
   "execution_count": null,
   "id": "fc937c87",
   "metadata": {},
   "outputs": [],
   "source": [
    "#!pip install google-play-scraper pandas"
   ]
  },
  {
   "cell_type": "code",
   "execution_count": 1,
   "id": "a8019281",
   "metadata": {},
   "outputs": [],
   "source": [
    "from google_play_scraper import app, reviews, Sort\n",
    "import pandas as pd\n",
    "import csv"
   ]
  },
  {
   "cell_type": "code",
   "execution_count": 13,
   "id": "49cb1e79",
   "metadata": {},
   "outputs": [],
   "source": [
    "# Scrape data\n",
    "scrapdata, continuation_token = reviews(\n",
    "    'com.eup.heyjapan', # Package aplikasi\n",
    "    lang='id',           # Komentar berbahasa Indonesia\n",
    "    country='id',        # Negara Indonesia\n",
    "    sort=Sort.MOST_RELEVANT,  # Komentar paling relevan\n",
    "    count=1000          # Ambil sebanyak mungkin (bisa disesuaikan)\n",
    ")"
   ]
  },
  {
   "cell_type": "code",
   "execution_count": 14,
   "id": "ef45e86d",
   "metadata": {},
   "outputs": [],
   "source": [
    "# Menyimpan ulasan dalam file CSV\n",
    "\n",
    "with open('ulasan_heyjapan.csv', mode='w', newline='', encoding='utf-8') as file:\n",
    "  writer = csv.writer(file)\n",
    "  writer.writerow(['Review']) # Menulis header kolom\n",
    "  for review in scrapdata:\n",
    "      writer.writerow([review['content']]) # Menulis konten ulasan ke dalam file CSV"
   ]
  },
  {
   "cell_type": "code",
   "execution_count": 15,
   "id": "11f3b301",
   "metadata": {},
   "outputs": [],
   "source": [
    "# Membuat DataFrame dari hasil scrapreview\n",
    "heyjapan_reviews_df = pd.DataFrame(scrapdata)\n",
    "\n",
    "# Menghitung jumlah baris dan kolom dalam DataFrame\n",
    "jumlah_ulasan, jumlah_kolom =heyjapan_reviews_df.shape"
   ]
  },
  {
   "cell_type": "code",
   "execution_count": 16,
   "id": "1a014403",
   "metadata": {},
   "outputs": [
    {
     "name": "stdout",
     "output_type": "stream",
     "text": [
      "1000\n",
      "11\n"
     ]
    }
   ],
   "source": [
    "print(jumlah_ulasan)\n",
    "print(jumlah_kolom)"
   ]
  },
  {
   "cell_type": "code",
   "execution_count": 17,
   "id": "ce6b828d",
   "metadata": {},
   "outputs": [
    {
     "data": {
      "text/html": [
       "<div>\n",
       "<style scoped>\n",
       "    .dataframe tbody tr th:only-of-type {\n",
       "        vertical-align: middle;\n",
       "    }\n",
       "\n",
       "    .dataframe tbody tr th {\n",
       "        vertical-align: top;\n",
       "    }\n",
       "\n",
       "    .dataframe thead th {\n",
       "        text-align: right;\n",
       "    }\n",
       "</style>\n",
       "<table border=\"1\" class=\"dataframe\">\n",
       "  <thead>\n",
       "    <tr style=\"text-align: right;\">\n",
       "      <th></th>\n",
       "      <th>reviewId</th>\n",
       "      <th>userName</th>\n",
       "      <th>userImage</th>\n",
       "      <th>content</th>\n",
       "      <th>score</th>\n",
       "      <th>thumbsUpCount</th>\n",
       "      <th>reviewCreatedVersion</th>\n",
       "      <th>at</th>\n",
       "      <th>replyContent</th>\n",
       "      <th>repliedAt</th>\n",
       "      <th>appVersion</th>\n",
       "    </tr>\n",
       "  </thead>\n",
       "  <tbody>\n",
       "    <tr>\n",
       "      <th>0</th>\n",
       "      <td>d351bd54-982b-46a1-9e7d-398ef25e68ed</td>\n",
       "      <td>Prayogi Adion</td>\n",
       "      <td>https://play-lh.googleusercontent.com/a-/ALV-U...</td>\n",
       "      <td>sangat menarik &amp; mudah di fahami untuk pemula....</td>\n",
       "      <td>5</td>\n",
       "      <td>8</td>\n",
       "      <td>3.0.3</td>\n",
       "      <td>2025-05-29 16:43:35</td>\n",
       "      <td>None</td>\n",
       "      <td>NaT</td>\n",
       "      <td>3.0.3</td>\n",
       "    </tr>\n",
       "    <tr>\n",
       "      <th>1</th>\n",
       "      <td>59212295-5bce-460a-94b1-53062e63ff11</td>\n",
       "      <td>Trian Mahesa</td>\n",
       "      <td>https://play-lh.googleusercontent.com/a/ACg8oc...</td>\n",
       "      <td>ini bagus bangett aku tiap selesai nyelesain 1...</td>\n",
       "      <td>5</td>\n",
       "      <td>33</td>\n",
       "      <td>3.0.0</td>\n",
       "      <td>2025-05-18 19:52:22</td>\n",
       "      <td>None</td>\n",
       "      <td>NaT</td>\n",
       "      <td>3.0.0</td>\n",
       "    </tr>\n",
       "    <tr>\n",
       "      <th>2</th>\n",
       "      <td>53168368-caf3-4e21-a58b-f81eba792b3d</td>\n",
       "      <td>Zergio Artamico</td>\n",
       "      <td>https://play-lh.googleusercontent.com/a-/ALV-U...</td>\n",
       "      <td>cocok buat pemula yang mau belajar bahasa jepa...</td>\n",
       "      <td>5</td>\n",
       "      <td>20</td>\n",
       "      <td>3.0.1</td>\n",
       "      <td>2025-05-24 21:29:36</td>\n",
       "      <td>None</td>\n",
       "      <td>NaT</td>\n",
       "      <td>3.0.1</td>\n",
       "    </tr>\n",
       "    <tr>\n",
       "      <th>3</th>\n",
       "      <td>02fd2dea-6cb6-48e3-a466-7ee21eeab893</td>\n",
       "      <td>Chesil Pusung</td>\n",
       "      <td>https://play-lh.googleusercontent.com/a-/ALV-U...</td>\n",
       "      <td>bagussss bangett.. ini lengkap banget huruf ka...</td>\n",
       "      <td>4</td>\n",
       "      <td>3</td>\n",
       "      <td>3.0.0</td>\n",
       "      <td>2025-05-12 21:02:37</td>\n",
       "      <td>Terima kasih atas ulasannya! 😊 Jika kamu meras...</td>\n",
       "      <td>2025-05-14 09:37:42</td>\n",
       "      <td>3.0.0</td>\n",
       "    </tr>\n",
       "    <tr>\n",
       "      <th>4</th>\n",
       "      <td>87a90f46-dbda-4faa-a9fb-380adb6c89e0</td>\n",
       "      <td>Ajeng Coloring</td>\n",
       "      <td>https://play-lh.googleusercontent.com/a/ACg8oc...</td>\n",
       "      <td>apknya membantu banget buat belajar bahasa jep...</td>\n",
       "      <td>5</td>\n",
       "      <td>23</td>\n",
       "      <td>3.0.0</td>\n",
       "      <td>2025-05-18 11:55:06</td>\n",
       "      <td>None</td>\n",
       "      <td>NaT</td>\n",
       "      <td>3.0.0</td>\n",
       "    </tr>\n",
       "  </tbody>\n",
       "</table>\n",
       "</div>"
      ],
      "text/plain": [
       "                               reviewId         userName  \\\n",
       "0  d351bd54-982b-46a1-9e7d-398ef25e68ed    Prayogi Adion   \n",
       "1  59212295-5bce-460a-94b1-53062e63ff11     Trian Mahesa   \n",
       "2  53168368-caf3-4e21-a58b-f81eba792b3d  Zergio Artamico   \n",
       "3  02fd2dea-6cb6-48e3-a466-7ee21eeab893    Chesil Pusung   \n",
       "4  87a90f46-dbda-4faa-a9fb-380adb6c89e0   Ajeng Coloring   \n",
       "\n",
       "                                           userImage  \\\n",
       "0  https://play-lh.googleusercontent.com/a-/ALV-U...   \n",
       "1  https://play-lh.googleusercontent.com/a/ACg8oc...   \n",
       "2  https://play-lh.googleusercontent.com/a-/ALV-U...   \n",
       "3  https://play-lh.googleusercontent.com/a-/ALV-U...   \n",
       "4  https://play-lh.googleusercontent.com/a/ACg8oc...   \n",
       "\n",
       "                                             content  score  thumbsUpCount  \\\n",
       "0  sangat menarik & mudah di fahami untuk pemula....      5              8   \n",
       "1  ini bagus bangett aku tiap selesai nyelesain 1...      5             33   \n",
       "2  cocok buat pemula yang mau belajar bahasa jepa...      5             20   \n",
       "3  bagussss bangett.. ini lengkap banget huruf ka...      4              3   \n",
       "4  apknya membantu banget buat belajar bahasa jep...      5             23   \n",
       "\n",
       "  reviewCreatedVersion                  at  \\\n",
       "0                3.0.3 2025-05-29 16:43:35   \n",
       "1                3.0.0 2025-05-18 19:52:22   \n",
       "2                3.0.1 2025-05-24 21:29:36   \n",
       "3                3.0.0 2025-05-12 21:02:37   \n",
       "4                3.0.0 2025-05-18 11:55:06   \n",
       "\n",
       "                                        replyContent           repliedAt  \\\n",
       "0                                               None                 NaT   \n",
       "1                                               None                 NaT   \n",
       "2                                               None                 NaT   \n",
       "3  Terima kasih atas ulasannya! 😊 Jika kamu meras... 2025-05-14 09:37:42   \n",
       "4                                               None                 NaT   \n",
       "\n",
       "  appVersion  \n",
       "0      3.0.3  \n",
       "1      3.0.0  \n",
       "2      3.0.1  \n",
       "3      3.0.0  \n",
       "4      3.0.0  "
      ]
     },
     "execution_count": 17,
     "metadata": {},
     "output_type": "execute_result"
    }
   ],
   "source": [
    "heyjapan_reviews_df.head()"
   ]
  },
  {
   "cell_type": "code",
   "execution_count": 18,
   "id": "14ed4b8e",
   "metadata": {},
   "outputs": [
    {
     "name": "stdout",
     "output_type": "stream",
     "text": [
      "<class 'pandas.core.frame.DataFrame'>\n",
      "RangeIndex: 1000 entries, 0 to 999\n",
      "Data columns (total 11 columns):\n",
      " #   Column                Non-Null Count  Dtype         \n",
      "---  ------                --------------  -----         \n",
      " 0   reviewId              1000 non-null   object        \n",
      " 1   userName              1000 non-null   object        \n",
      " 2   userImage             1000 non-null   object        \n",
      " 3   content               1000 non-null   object        \n",
      " 4   score                 1000 non-null   int64         \n",
      " 5   thumbsUpCount         1000 non-null   int64         \n",
      " 6   reviewCreatedVersion  959 non-null    object        \n",
      " 7   at                    1000 non-null   datetime64[ns]\n",
      " 8   replyContent          116 non-null    object        \n",
      " 9   repliedAt             116 non-null    datetime64[ns]\n",
      " 10  appVersion            959 non-null    object        \n",
      "dtypes: datetime64[ns](2), int64(2), object(7)\n",
      "memory usage: 86.1+ KB\n"
     ]
    }
   ],
   "source": [
    "heyjapan_reviews_df.info()"
   ]
  }
 ],
 "metadata": {
  "kernelspec": {
   "display_name": "virtual_env",
   "language": "python",
   "name": "python3"
  },
  "language_info": {
   "codemirror_mode": {
    "name": "ipython",
    "version": 3
   },
   "file_extension": ".py",
   "mimetype": "text/x-python",
   "name": "python",
   "nbconvert_exporter": "python",
   "pygments_lexer": "ipython3",
   "version": "3.11.9"
  }
 },
 "nbformat": 4,
 "nbformat_minor": 5
}
