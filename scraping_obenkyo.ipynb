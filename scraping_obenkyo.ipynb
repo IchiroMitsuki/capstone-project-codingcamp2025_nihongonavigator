{
 "cells": [
  {
   "cell_type": "code",
   "execution_count": null,
   "id": "fc937c87",
   "metadata": {},
   "outputs": [],
   "source": [
    "#!pip install google-play-scraper pandas"
   ]
  },
  {
   "cell_type": "code",
   "execution_count": 1,
   "id": "a8019281",
   "metadata": {},
   "outputs": [],
   "source": [
    "from google_play_scraper import app, reviews, Sort\n",
    "import pandas as pd\n",
    "import csv"
   ]
  },
  {
   "cell_type": "code",
   "execution_count": 2,
   "id": "49cb1e79",
   "metadata": {},
   "outputs": [],
   "source": [
    "# Scrape data\n",
    "scrapdata, continuation_token = reviews(\n",
    "    'com.Obenkyo', # Package aplikasi\n",
    "    lang='id',           # Komentar berbahasa Indonesia\n",
    "    country='id',        # Negara Indonesia\n",
    "    sort=Sort.MOST_RELEVANT,  # Komentar paling relevan\n",
    "    count=5000          # Ambil sebanyak mungkin (bisa disesuaikan)\n",
    ")"
   ]
  },
  {
   "cell_type": "code",
   "execution_count": 3,
   "id": "ef45e86d",
   "metadata": {},
   "outputs": [],
   "source": [
    "# Menyimpan ulasan dalam file CSV\n",
    "\n",
    "with open('ulasan_obenkyo.csv', mode='w', newline='', encoding='utf-8') as file:\n",
    "  writer = csv.writer(file)\n",
    "  writer.writerow(['Review']) # Menulis header kolom\n",
    "  for review in scrapdata:\n",
    "      writer.writerow([review['content']]) # Menulis konten ulasan ke dalam file CSV"
   ]
  },
  {
   "cell_type": "code",
   "execution_count": 4,
   "id": "11f3b301",
   "metadata": {},
   "outputs": [],
   "source": [
    "# Membuat DataFrame dari hasil scrapreview\n",
    "obenkyo_reviews_df = pd.DataFrame(scrapdata)\n",
    "\n",
    "# Menghitung jumlah baris dan kolom dalam DataFrame\n",
    "jumlah_ulasan, jumlah_kolom =obenkyo_reviews_df.shape"
   ]
  },
  {
   "cell_type": "code",
   "execution_count": 5,
   "id": "1a014403",
   "metadata": {},
   "outputs": [
    {
     "name": "stdout",
     "output_type": "stream",
     "text": [
      "662\n",
      "11\n"
     ]
    }
   ],
   "source": [
    "print(jumlah_ulasan)\n",
    "print(jumlah_kolom)"
   ]
  },
  {
   "cell_type": "code",
   "execution_count": 6,
   "id": "ce6b828d",
   "metadata": {},
   "outputs": [
    {
     "data": {
      "text/html": [
       "<div>\n",
       "<style scoped>\n",
       "    .dataframe tbody tr th:only-of-type {\n",
       "        vertical-align: middle;\n",
       "    }\n",
       "\n",
       "    .dataframe tbody tr th {\n",
       "        vertical-align: top;\n",
       "    }\n",
       "\n",
       "    .dataframe thead th {\n",
       "        text-align: right;\n",
       "    }\n",
       "</style>\n",
       "<table border=\"1\" class=\"dataframe\">\n",
       "  <thead>\n",
       "    <tr style=\"text-align: right;\">\n",
       "      <th></th>\n",
       "      <th>reviewId</th>\n",
       "      <th>userName</th>\n",
       "      <th>userImage</th>\n",
       "      <th>content</th>\n",
       "      <th>score</th>\n",
       "      <th>thumbsUpCount</th>\n",
       "      <th>reviewCreatedVersion</th>\n",
       "      <th>at</th>\n",
       "      <th>replyContent</th>\n",
       "      <th>repliedAt</th>\n",
       "      <th>appVersion</th>\n",
       "    </tr>\n",
       "  </thead>\n",
       "  <tbody>\n",
       "    <tr>\n",
       "      <th>0</th>\n",
       "      <td>7b13e54b-5fbe-43f3-955a-f172f7fcc463</td>\n",
       "      <td>Lestenior Chanel</td>\n",
       "      <td>https://play-lh.googleusercontent.com/a/ACg8oc...</td>\n",
       "      <td>Overall sudah bagus semua nya. Kurang diterjem...</td>\n",
       "      <td>4</td>\n",
       "      <td>41</td>\n",
       "      <td>3.3.4.5</td>\n",
       "      <td>2024-03-30 07:19:26</td>\n",
       "      <td>None</td>\n",
       "      <td>None</td>\n",
       "      <td>3.3.4.5</td>\n",
       "    </tr>\n",
       "    <tr>\n",
       "      <th>1</th>\n",
       "      <td>1b4e2378-81f3-4c33-b573-2d353cb4ced6</td>\n",
       "      <td>Giovanni Yusuf H</td>\n",
       "      <td>https://play-lh.googleusercontent.com/a/ACg8oc...</td>\n",
       "      <td>Sangat membantu, banyak sekali pilihan quiz mu...</td>\n",
       "      <td>5</td>\n",
       "      <td>36</td>\n",
       "      <td>3.3.4.1</td>\n",
       "      <td>2022-05-26 00:08:47</td>\n",
       "      <td>None</td>\n",
       "      <td>None</td>\n",
       "      <td>3.3.4.1</td>\n",
       "    </tr>\n",
       "    <tr>\n",
       "      <th>2</th>\n",
       "      <td>c8056c3e-e93d-424e-ab31-0331511255b5</td>\n",
       "      <td>Murcielago Gaming_00</td>\n",
       "      <td>https://play-lh.googleusercontent.com/a-/ALV-U...</td>\n",
       "      <td>Tolong berikan bahasa Indonesia didalam ketera...</td>\n",
       "      <td>2</td>\n",
       "      <td>148</td>\n",
       "      <td>3.3.4.1</td>\n",
       "      <td>2020-07-11 20:27:29</td>\n",
       "      <td>None</td>\n",
       "      <td>None</td>\n",
       "      <td>3.3.4.1</td>\n",
       "    </tr>\n",
       "    <tr>\n",
       "      <th>3</th>\n",
       "      <td>78447319-6eee-4179-b1af-36948c5e18c0</td>\n",
       "      <td>kusuma aji</td>\n",
       "      <td>https://play-lh.googleusercontent.com/a-/ALV-U...</td>\n",
       "      <td>aplikasinya bagus untuk belajar dan menghafal ...</td>\n",
       "      <td>5</td>\n",
       "      <td>71</td>\n",
       "      <td>3.3.4.5</td>\n",
       "      <td>2024-01-07 19:41:16</td>\n",
       "      <td>None</td>\n",
       "      <td>None</td>\n",
       "      <td>3.3.4.5</td>\n",
       "    </tr>\n",
       "    <tr>\n",
       "      <th>4</th>\n",
       "      <td>9cf819b1-97ca-4f13-a266-0d617ac9dca9</td>\n",
       "      <td>Rohid Z</td>\n",
       "      <td>https://play-lh.googleusercontent.com/a-/ALV-U...</td>\n",
       "      <td>Alhamdulillah aplikasi bagus tapi ada yg kuran...</td>\n",
       "      <td>4</td>\n",
       "      <td>83</td>\n",
       "      <td>3.3.4.1</td>\n",
       "      <td>2020-10-23 16:46:45</td>\n",
       "      <td>None</td>\n",
       "      <td>None</td>\n",
       "      <td>3.3.4.1</td>\n",
       "    </tr>\n",
       "  </tbody>\n",
       "</table>\n",
       "</div>"
      ],
      "text/plain": [
       "                               reviewId              userName  \\\n",
       "0  7b13e54b-5fbe-43f3-955a-f172f7fcc463      Lestenior Chanel   \n",
       "1  1b4e2378-81f3-4c33-b573-2d353cb4ced6      Giovanni Yusuf H   \n",
       "2  c8056c3e-e93d-424e-ab31-0331511255b5  Murcielago Gaming_00   \n",
       "3  78447319-6eee-4179-b1af-36948c5e18c0            kusuma aji   \n",
       "4  9cf819b1-97ca-4f13-a266-0d617ac9dca9               Rohid Z   \n",
       "\n",
       "                                           userImage  \\\n",
       "0  https://play-lh.googleusercontent.com/a/ACg8oc...   \n",
       "1  https://play-lh.googleusercontent.com/a/ACg8oc...   \n",
       "2  https://play-lh.googleusercontent.com/a-/ALV-U...   \n",
       "3  https://play-lh.googleusercontent.com/a-/ALV-U...   \n",
       "4  https://play-lh.googleusercontent.com/a-/ALV-U...   \n",
       "\n",
       "                                             content  score  thumbsUpCount  \\\n",
       "0  Overall sudah bagus semua nya. Kurang diterjem...      4             41   \n",
       "1  Sangat membantu, banyak sekali pilihan quiz mu...      5             36   \n",
       "2  Tolong berikan bahasa Indonesia didalam ketera...      2            148   \n",
       "3  aplikasinya bagus untuk belajar dan menghafal ...      5             71   \n",
       "4  Alhamdulillah aplikasi bagus tapi ada yg kuran...      4             83   \n",
       "\n",
       "  reviewCreatedVersion                  at replyContent repliedAt appVersion  \n",
       "0              3.3.4.5 2024-03-30 07:19:26         None      None    3.3.4.5  \n",
       "1              3.3.4.1 2022-05-26 00:08:47         None      None    3.3.4.1  \n",
       "2              3.3.4.1 2020-07-11 20:27:29         None      None    3.3.4.1  \n",
       "3              3.3.4.5 2024-01-07 19:41:16         None      None    3.3.4.5  \n",
       "4              3.3.4.1 2020-10-23 16:46:45         None      None    3.3.4.1  "
      ]
     },
     "execution_count": 6,
     "metadata": {},
     "output_type": "execute_result"
    }
   ],
   "source": [
    "obenkyo_reviews_df.head()"
   ]
  },
  {
   "cell_type": "code",
   "execution_count": 7,
   "id": "14ed4b8e",
   "metadata": {},
   "outputs": [
    {
     "name": "stdout",
     "output_type": "stream",
     "text": [
      "<class 'pandas.core.frame.DataFrame'>\n",
      "RangeIndex: 662 entries, 0 to 661\n",
      "Data columns (total 11 columns):\n",
      " #   Column                Non-Null Count  Dtype         \n",
      "---  ------                --------------  -----         \n",
      " 0   reviewId              662 non-null    object        \n",
      " 1   userName              662 non-null    object        \n",
      " 2   userImage             662 non-null    object        \n",
      " 3   content               660 non-null    object        \n",
      " 4   score                 662 non-null    int64         \n",
      " 5   thumbsUpCount         662 non-null    int64         \n",
      " 6   reviewCreatedVersion  395 non-null    object        \n",
      " 7   at                    662 non-null    datetime64[ns]\n",
      " 8   replyContent          0 non-null      object        \n",
      " 9   repliedAt             0 non-null      object        \n",
      " 10  appVersion            395 non-null    object        \n",
      "dtypes: datetime64[ns](1), int64(2), object(8)\n",
      "memory usage: 57.0+ KB\n"
     ]
    }
   ],
   "source": [
    "obenkyo_reviews_df.info()"
   ]
  }
 ],
 "metadata": {
  "kernelspec": {
   "display_name": "virtual_env",
   "language": "python",
   "name": "python3"
  },
  "language_info": {
   "codemirror_mode": {
    "name": "ipython",
    "version": 3
   },
   "file_extension": ".py",
   "mimetype": "text/x-python",
   "name": "python",
   "nbconvert_exporter": "python",
   "pygments_lexer": "ipython3",
   "version": "3.11.9"
  }
 },
 "nbformat": 4,
 "nbformat_minor": 5
}
