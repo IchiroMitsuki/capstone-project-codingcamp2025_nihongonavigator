{
 "cells": [
  {
   "cell_type": "code",
   "execution_count": 1,
   "id": "fc937c87",
   "metadata": {},
   "outputs": [],
   "source": [
    "#!pip install google-play-scraper pandas"
   ]
  },
  {
   "cell_type": "code",
   "execution_count": 1,
   "id": "a8019281",
   "metadata": {},
   "outputs": [],
   "source": [
    "from google_play_scraper import app, reviews, Sort\n",
    "import pandas as pd\n",
    "import csv"
   ]
  },
  {
   "cell_type": "code",
   "execution_count": 2,
   "id": "49cb1e79",
   "metadata": {},
   "outputs": [],
   "source": [
    "# Scrape data\n",
    "scrapdata, continuation_token = reviews(\n",
    "    'com.eup.mytest', # Package aplikasi\n",
    "    lang='id',           # Komentar berbahasa Indonesia\n",
    "    country='id',        # Negara Indonesia\n",
    "    sort=Sort.MOST_RELEVANT,  # Komentar paling relevan\n",
    "    count=5000          # Ambil sebanyak mungkin (bisa disesuaikan)\n",
    ")"
   ]
  },
  {
   "cell_type": "code",
   "execution_count": 3,
   "id": "ef45e86d",
   "metadata": {},
   "outputs": [],
   "source": [
    "# Menyimpan ulasan dalam file CSV\n",
    "\n",
    "with open('ulasan_migiijlpt.csv', mode='w', newline='', encoding='utf-8') as file:\n",
    "  writer = csv.writer(file)\n",
    "  writer.writerow(['Review']) # Menulis header kolom\n",
    "  for review in scrapdata:\n",
    "      writer.writerow([review['content']]) # Menulis konten ulasan ke dalam file CSV"
   ]
  },
  {
   "cell_type": "code",
   "execution_count": 4,
   "id": "11f3b301",
   "metadata": {},
   "outputs": [],
   "source": [
    "# Membuat DataFrame dari hasil scrapreview\n",
    "migiijlpt_reviews_df = pd.DataFrame(scrapdata)\n",
    "\n",
    "# Menghitung jumlah baris dan kolom dalam DataFrame\n",
    "jumlah_ulasan, jumlah_kolom =migiijlpt_reviews_df.shape"
   ]
  },
  {
   "cell_type": "code",
   "execution_count": 5,
   "id": "1a014403",
   "metadata": {},
   "outputs": [
    {
     "name": "stdout",
     "output_type": "stream",
     "text": [
      "791\n",
      "11\n"
     ]
    }
   ],
   "source": [
    "print(jumlah_ulasan)\n",
    "print(jumlah_kolom)"
   ]
  },
  {
   "cell_type": "code",
   "execution_count": 6,
   "id": "ce6b828d",
   "metadata": {},
   "outputs": [
    {
     "data": {
      "text/html": [
       "<div>\n",
       "<style scoped>\n",
       "    .dataframe tbody tr th:only-of-type {\n",
       "        vertical-align: middle;\n",
       "    }\n",
       "\n",
       "    .dataframe tbody tr th {\n",
       "        vertical-align: top;\n",
       "    }\n",
       "\n",
       "    .dataframe thead th {\n",
       "        text-align: right;\n",
       "    }\n",
       "</style>\n",
       "<table border=\"1\" class=\"dataframe\">\n",
       "  <thead>\n",
       "    <tr style=\"text-align: right;\">\n",
       "      <th></th>\n",
       "      <th>reviewId</th>\n",
       "      <th>userName</th>\n",
       "      <th>userImage</th>\n",
       "      <th>content</th>\n",
       "      <th>score</th>\n",
       "      <th>thumbsUpCount</th>\n",
       "      <th>reviewCreatedVersion</th>\n",
       "      <th>at</th>\n",
       "      <th>replyContent</th>\n",
       "      <th>repliedAt</th>\n",
       "      <th>appVersion</th>\n",
       "    </tr>\n",
       "  </thead>\n",
       "  <tbody>\n",
       "    <tr>\n",
       "      <th>0</th>\n",
       "      <td>5764051b-35a7-41c9-a14e-afd2109f8345</td>\n",
       "      <td>Salsabiela Amora</td>\n",
       "      <td>https://play-lh.googleusercontent.com/a-/ALV-U...</td>\n",
       "      <td>sebenarnya cakep banget aplikasinya, tapi untu...</td>\n",
       "      <td>4</td>\n",
       "      <td>0</td>\n",
       "      <td>4.0.6</td>\n",
       "      <td>2025-06-04 18:56:00</td>\n",
       "      <td>Terima kasih banyak, Migii JLPT membantu Anda ...</td>\n",
       "      <td>2025-06-05 08:14:31</td>\n",
       "      <td>4.0.6</td>\n",
       "    </tr>\n",
       "    <tr>\n",
       "      <th>1</th>\n",
       "      <td>9240edf2-20b0-48af-99b5-99d7bb5c3306</td>\n",
       "      <td>Tiktok Short</td>\n",
       "      <td>https://play-lh.googleusercontent.com/a/ACg8oc...</td>\n",
       "      <td>aplikasi ini sangat membantu dalam latihan bah...</td>\n",
       "      <td>5</td>\n",
       "      <td>17</td>\n",
       "      <td>4.0.5</td>\n",
       "      <td>2025-05-28 19:29:50</td>\n",
       "      <td>Terima kasih banyak, Migii JLPT membantu Anda ...</td>\n",
       "      <td>2025-05-29 08:50:26</td>\n",
       "      <td>4.0.5</td>\n",
       "    </tr>\n",
       "    <tr>\n",
       "      <th>2</th>\n",
       "      <td>c435ae3b-c2ad-4f3c-9bd2-4b1a0c78d3fb</td>\n",
       "      <td>NoobCapt</td>\n",
       "      <td>https://play-lh.googleusercontent.com/a-/ALV-U...</td>\n",
       "      <td>Kebanyakan iklan, pas ngerjain simulasinya ser...</td>\n",
       "      <td>1</td>\n",
       "      <td>5</td>\n",
       "      <td>4.0.0</td>\n",
       "      <td>2025-03-11 11:32:19</td>\n",
       "      <td>Halo NoobCapt, terima kasih atas masukan Anda ...</td>\n",
       "      <td>2025-03-11 23:12:38</td>\n",
       "      <td>4.0.0</td>\n",
       "    </tr>\n",
       "    <tr>\n",
       "      <th>3</th>\n",
       "      <td>107a6b89-72fd-4617-a3a5-6a75ecfc2a2a</td>\n",
       "      <td>Mahraa Am</td>\n",
       "      <td>https://play-lh.googleusercontent.com/a-/ALV-U...</td>\n",
       "      <td>pas ngga premium sih bagus, tapi kok pas nyoba...</td>\n",
       "      <td>1</td>\n",
       "      <td>4</td>\n",
       "      <td>4.0.2</td>\n",
       "      <td>2025-03-29 18:28:44</td>\n",
       "      <td>Halo, terima kasih atas masukan Anda untuk Mig...</td>\n",
       "      <td>2025-03-31 08:20:36</td>\n",
       "      <td>4.0.2</td>\n",
       "    </tr>\n",
       "    <tr>\n",
       "      <th>4</th>\n",
       "      <td>b9f2e869-c798-41b7-9501-dca22671f9d5</td>\n",
       "      <td>Lili Karomay</td>\n",
       "      <td>https://play-lh.googleusercontent.com/a/ACg8oc...</td>\n",
       "      <td>baruu tau ada aplikasi begini membantu banget ...</td>\n",
       "      <td>5</td>\n",
       "      <td>9</td>\n",
       "      <td>4.0.6</td>\n",
       "      <td>2025-05-28 15:47:09</td>\n",
       "      <td>Terima kasih banyak, Migii JLPT membantu Anda ...</td>\n",
       "      <td>2025-05-29 08:50:23</td>\n",
       "      <td>4.0.6</td>\n",
       "    </tr>\n",
       "  </tbody>\n",
       "</table>\n",
       "</div>"
      ],
      "text/plain": [
       "                               reviewId          userName  \\\n",
       "0  5764051b-35a7-41c9-a14e-afd2109f8345  Salsabiela Amora   \n",
       "1  9240edf2-20b0-48af-99b5-99d7bb5c3306      Tiktok Short   \n",
       "2  c435ae3b-c2ad-4f3c-9bd2-4b1a0c78d3fb          NoobCapt   \n",
       "3  107a6b89-72fd-4617-a3a5-6a75ecfc2a2a         Mahraa Am   \n",
       "4  b9f2e869-c798-41b7-9501-dca22671f9d5      Lili Karomay   \n",
       "\n",
       "                                           userImage  \\\n",
       "0  https://play-lh.googleusercontent.com/a-/ALV-U...   \n",
       "1  https://play-lh.googleusercontent.com/a/ACg8oc...   \n",
       "2  https://play-lh.googleusercontent.com/a-/ALV-U...   \n",
       "3  https://play-lh.googleusercontent.com/a-/ALV-U...   \n",
       "4  https://play-lh.googleusercontent.com/a/ACg8oc...   \n",
       "\n",
       "                                             content  score  thumbsUpCount  \\\n",
       "0  sebenarnya cakep banget aplikasinya, tapi untu...      4              0   \n",
       "1  aplikasi ini sangat membantu dalam latihan bah...      5             17   \n",
       "2  Kebanyakan iklan, pas ngerjain simulasinya ser...      1              5   \n",
       "3  pas ngga premium sih bagus, tapi kok pas nyoba...      1              4   \n",
       "4  baruu tau ada aplikasi begini membantu banget ...      5              9   \n",
       "\n",
       "  reviewCreatedVersion                  at  \\\n",
       "0                4.0.6 2025-06-04 18:56:00   \n",
       "1                4.0.5 2025-05-28 19:29:50   \n",
       "2                4.0.0 2025-03-11 11:32:19   \n",
       "3                4.0.2 2025-03-29 18:28:44   \n",
       "4                4.0.6 2025-05-28 15:47:09   \n",
       "\n",
       "                                        replyContent           repliedAt  \\\n",
       "0  Terima kasih banyak, Migii JLPT membantu Anda ... 2025-06-05 08:14:31   \n",
       "1  Terima kasih banyak, Migii JLPT membantu Anda ... 2025-05-29 08:50:26   \n",
       "2  Halo NoobCapt, terima kasih atas masukan Anda ... 2025-03-11 23:12:38   \n",
       "3  Halo, terima kasih atas masukan Anda untuk Mig... 2025-03-31 08:20:36   \n",
       "4  Terima kasih banyak, Migii JLPT membantu Anda ... 2025-05-29 08:50:23   \n",
       "\n",
       "  appVersion  \n",
       "0      4.0.6  \n",
       "1      4.0.5  \n",
       "2      4.0.0  \n",
       "3      4.0.2  \n",
       "4      4.0.6  "
      ]
     },
     "execution_count": 6,
     "metadata": {},
     "output_type": "execute_result"
    }
   ],
   "source": [
    "migiijlpt_reviews_df.head()"
   ]
  },
  {
   "cell_type": "code",
   "execution_count": 7,
   "id": "14ed4b8e",
   "metadata": {},
   "outputs": [
    {
     "name": "stdout",
     "output_type": "stream",
     "text": [
      "<class 'pandas.core.frame.DataFrame'>\n",
      "RangeIndex: 791 entries, 0 to 790\n",
      "Data columns (total 11 columns):\n",
      " #   Column                Non-Null Count  Dtype         \n",
      "---  ------                --------------  -----         \n",
      " 0   reviewId              791 non-null    object        \n",
      " 1   userName              791 non-null    object        \n",
      " 2   userImage             791 non-null    object        \n",
      " 3   content               791 non-null    object        \n",
      " 4   score                 791 non-null    int64         \n",
      " 5   thumbsUpCount         791 non-null    int64         \n",
      " 6   reviewCreatedVersion  723 non-null    object        \n",
      " 7   at                    791 non-null    datetime64[ns]\n",
      " 8   replyContent          725 non-null    object        \n",
      " 9   repliedAt             725 non-null    datetime64[ns]\n",
      " 10  appVersion            723 non-null    object        \n",
      "dtypes: datetime64[ns](2), int64(2), object(7)\n",
      "memory usage: 68.1+ KB\n"
     ]
    }
   ],
   "source": [
    "migiijlpt_reviews_df.info()"
   ]
  }
 ],
 "metadata": {
  "kernelspec": {
   "display_name": "virtual_env",
   "language": "python",
   "name": "python3"
  },
  "language_info": {
   "codemirror_mode": {
    "name": "ipython",
    "version": 3
   },
   "file_extension": ".py",
   "mimetype": "text/x-python",
   "name": "python",
   "nbconvert_exporter": "python",
   "pygments_lexer": "ipython3",
   "version": "3.11.9"
  }
 },
 "nbformat": 4,
 "nbformat_minor": 5
}
