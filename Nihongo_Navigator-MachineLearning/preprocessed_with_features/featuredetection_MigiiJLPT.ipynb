{
 "cells": [
  {
   "cell_type": "code",
   "execution_count": 1,
   "metadata": {
    "executionInfo": {
     "elapsed": 672,
     "status": "ok",
     "timestamp": 1749551699015,
     "user": {
      "displayName": "Syahreina Maulidya Jasmine MC705D5X0478",
      "userId": "00346893404112597538"
     },
     "user_tz": -420
    },
    "id": "yk_-Z0isEkcU"
   },
   "outputs": [],
   "source": [
    "import pandas as pd"
   ]
  },
  {
   "cell_type": "code",
   "execution_count": 2,
   "metadata": {
    "executionInfo": {
     "elapsed": 3,
     "status": "ok",
     "timestamp": 1749551699026,
     "user": {
      "displayName": "Syahreina Maulidya Jasmine MC705D5X0478",
      "userId": "00346893404112597538"
     },
     "user_tz": -420
    },
    "id": "8b1_OPE1Z7Rq"
   },
   "outputs": [],
   "source": [
    "df_RevMigiiJLPT_clean = pd.read_csv(r\"C:\\Latihan_Python\\casptone-project-dicoding_nihongonavigator\\Preprocessesedtext\\ulasan_MigiiJLPTclean.csv\")#r\"/content/ulasan_MigiiJLPTclean.csv\""
   ]
  },
  {
   "cell_type": "code",
   "execution_count": 3,
   "metadata": {
    "executionInfo": {
     "elapsed": 2,
     "status": "ok",
     "timestamp": 1749551699044,
     "user": {
      "displayName": "Syahreina Maulidya Jasmine MC705D5X0478",
      "userId": "00346893404112597538"
     },
     "user_tz": -420
    },
    "id": "fEDCcLU9ExjV"
   },
   "outputs": [],
   "source": [
    "feature_keywords = {\n",
    "    'kotoba': ['kosakata', 'vocab', 'kata', 'kotoba', 'kosa kata', 'kosa kt', 'kosakt'],\n",
    "    'bunpou': ['grammar', 'tatabahasa', 'bunpou', 'tata bahasa', 'bunpo', 'tata bhs', 'tt bhs', 'pola kalimat', 'struktur kalimat', 'susunan kalimat', 'kalimat'],\n",
    "    'kanji': ['kanji', 'huruf jepang', 'hrf jpng', 'tulisan jepang', 'karakter jepang', 'radikal']\n",
    "}\n",
    "\n",
    "def detect_features(text, keyword_dict):\n",
    "    detected = set()\n",
    "    for label, keywords in keyword_dict.items():\n",
    "        for word in keywords:\n",
    "            if word in text.lower():\n",
    "                detected.add(label)\n",
    "    return ','.join(sorted(detected))\n",
    "\n",
    "# Terapkan ke data Migi JLPT\n",
    "df_RevMigiiJLPT_clean['fitur_terdeteksi'] = df_RevMigiiJLPT_clean['text_final_stemmed'].apply(\n",
    "    lambda x: detect_features(str(x), feature_keywords) if isinstance(x, str) else ''\n",
    ")\n",
    "\n",
    "# Filter hanya ulasan yang punya fitur (agar bisa lanjut ke tahap sentimen)\n",
    "df_RevMigiiJLPT_clean_with_features = df_RevMigiiJLPT_clean[df_RevMigiiJLPT_clean['fitur_terdeteksi'] != '']\n"
   ]
  },
  {
   "cell_type": "code",
   "execution_count": 4,
   "metadata": {
    "colab": {
     "base_uri": "https://localhost:8080/",
     "height": 660
    },
    "executionInfo": {
     "elapsed": 318,
     "status": "ok",
     "timestamp": 1749551699365,
     "user": {
      "displayName": "Syahreina Maulidya Jasmine MC705D5X0478",
      "userId": "00346893404112597538"
     },
     "user_tz": -420
    },
    "id": "ALU28AGSFBqr",
    "outputId": "d67558af-b7c1-4d97-827b-3176d02e0b87"
   },
   "outputs": [
    {
     "data": {
      "text/html": [
       "<div>\n",
       "<style scoped>\n",
       "    .dataframe tbody tr th:only-of-type {\n",
       "        vertical-align: middle;\n",
       "    }\n",
       "\n",
       "    .dataframe tbody tr th {\n",
       "        vertical-align: top;\n",
       "    }\n",
       "\n",
       "    .dataframe thead th {\n",
       "        text-align: right;\n",
       "    }\n",
       "</style>\n",
       "<table border=\"1\" class=\"dataframe\">\n",
       "  <thead>\n",
       "    <tr style=\"text-align: right;\">\n",
       "      <th></th>\n",
       "      <th>Review</th>\n",
       "      <th>text_clean</th>\n",
       "      <th>text_casefoldingText</th>\n",
       "      <th>text_final_splitted</th>\n",
       "      <th>text_slangwords</th>\n",
       "      <th>text_tokenizingText</th>\n",
       "      <th>text_normalized</th>\n",
       "      <th>text_stopword</th>\n",
       "      <th>text_sentenced</th>\n",
       "      <th>text_final_stemmed</th>\n",
       "      <th>fitur_terdeteksi</th>\n",
       "    </tr>\n",
       "  </thead>\n",
       "  <tbody>\n",
       "    <tr>\n",
       "      <th>8</th>\n",
       "      <td>Pelajaran Hiragana Katakana untuk pemula tidak...</td>\n",
       "      <td>Pelajaran Hiragana Katakana untuk pemula tidak...</td>\n",
       "      <td>pelajaran hiragana katakana untuk pemula tidak...</td>\n",
       "      <td>pelajaran hiragana katakana untuk pemula tidak...</td>\n",
       "      <td>pelajaran hiragana katakana untuk pemula tidak...</td>\n",
       "      <td>['pelajaran', 'hiragana', 'katakana', 'untuk',...</td>\n",
       "      <td>['pelajaran', 'hiragana', 'katakana', 'untuk',...</td>\n",
       "      <td>['pelajaran', 'hiragana', 'katakana', 'pemula'...</td>\n",
       "      <td>pelajaran hiragana katakana pemula adaa</td>\n",
       "      <td>ajar hiragana katakana mula adaa</td>\n",
       "      <td>kotoba</td>\n",
       "    </tr>\n",
       "    <tr>\n",
       "      <th>11</th>\n",
       "      <td>aplikasi ini sangat membantu dalam latihan bah...</td>\n",
       "      <td>aplikasi ini sangat membantu dalam latihan bah...</td>\n",
       "      <td>aplikasi ini sangat membantu dalam latihan bah...</td>\n",
       "      <td>aplikasi ini sangat membantu dalam latihan bah...</td>\n",
       "      <td>aplikasi ini sangat membantu dalam latihan bah...</td>\n",
       "      <td>['aplikasi', 'ini', 'sangat', 'membantu', 'dal...</td>\n",
       "      <td>['aplikasi', 'ini', 'sangat', 'membantu', 'dal...</td>\n",
       "      <td>['aplikasi', 'membantu', 'latihan', 'bahasa', ...</td>\n",
       "      <td>aplikasi membantu latihan bahasa jepang belaja...</td>\n",
       "      <td>aplikasi bantu latih bahasa jepang ajar kanjik...</td>\n",
       "      <td>bunpou,kanji,kotoba</td>\n",
       "    </tr>\n",
       "    <tr>\n",
       "      <th>22</th>\n",
       "      <td>Aku apk migi ini kotoba nya ku jadikan patokan...</td>\n",
       "      <td>Aku apk migi ini kotoba nya ku jadikan patokan...</td>\n",
       "      <td>aku apk migi ini kotoba nya ku jadikan patokan...</td>\n",
       "      <td>aku apk migi ini kotoba nya ku jadikan patokan...</td>\n",
       "      <td>aku apk migi ini kotoba nya ku jadikan patokan...</td>\n",
       "      <td>['aku', 'apk', 'migi', 'ini', 'kotoba', 'nya',...</td>\n",
       "      <td>['aku', 'apk', 'migi', 'ini', 'kotoba', 'nya',...</td>\n",
       "      <td>['apk', 'migi', 'kotoba', 'jadikan', 'patokan'...</td>\n",
       "      <td>apk migi kotoba jadikan patokan utama otodidak...</td>\n",
       "      <td>apk migi kotoba jadi patok utama otodidak niat...</td>\n",
       "      <td>kotoba</td>\n",
       "    </tr>\n",
       "    <tr>\n",
       "      <th>32</th>\n",
       "      <td>It's a very good app, possible to make a roadm...</td>\n",
       "      <td>Its a very good app possible to make a roadmap...</td>\n",
       "      <td>its a very good app possible to make a roadmap...</td>\n",
       "      <td>its a very good app possible to make a roadmap...</td>\n",
       "      <td>its a very bagus app possible to make a roadma...</td>\n",
       "      <td>['its', 'a', 'very', 'bagus', 'app', 'possible...</td>\n",
       "      <td>['its', 'a', 'very', 'bagus', 'app', 'possible...</td>\n",
       "      <td>['bagus', 'app', 'possible', 'make', 'roadmap'...</td>\n",
       "      <td>bagus app possible make roadmap plan daily stu...</td>\n",
       "      <td>bagus app possible make roadmap plan daily stu...</td>\n",
       "      <td>bunpou,kanji</td>\n",
       "    </tr>\n",
       "    <tr>\n",
       "      <th>35</th>\n",
       "      <td>sangat bagus buat me-review ulang kanji, kosak...</td>\n",
       "      <td>sangat bagus buat mereview ulang kanji kosakat...</td>\n",
       "      <td>sangat bagus buat mereview ulang kanji kosakat...</td>\n",
       "      <td>sangat bagus buat mereview ulang kanji kosakat...</td>\n",
       "      <td>sangat bagus buat mereview ulang kanji kosakat...</td>\n",
       "      <td>['sangat', 'bagus', 'buat', 'mereview', 'ulang...</td>\n",
       "      <td>['sangat', 'bagus', 'buat', 'mereview', 'ulang...</td>\n",
       "      <td>['bagus', 'mereview', 'ulang', 'kanji', 'kosak...</td>\n",
       "      <td>bagus mereview ulang kanji kosakata latihan jlpt</td>\n",
       "      <td>bagus mereview ulang kanji kosakata latih jlpt</td>\n",
       "      <td>kanji,kotoba</td>\n",
       "    </tr>\n",
       "  </tbody>\n",
       "</table>\n",
       "</div>"
      ],
      "text/plain": [
       "                                               Review  \\\n",
       "8   Pelajaran Hiragana Katakana untuk pemula tidak...   \n",
       "11  aplikasi ini sangat membantu dalam latihan bah...   \n",
       "22  Aku apk migi ini kotoba nya ku jadikan patokan...   \n",
       "32  It's a very good app, possible to make a roadm...   \n",
       "35  sangat bagus buat me-review ulang kanji, kosak...   \n",
       "\n",
       "                                           text_clean  \\\n",
       "8   Pelajaran Hiragana Katakana untuk pemula tidak...   \n",
       "11  aplikasi ini sangat membantu dalam latihan bah...   \n",
       "22  Aku apk migi ini kotoba nya ku jadikan patokan...   \n",
       "32  Its a very good app possible to make a roadmap...   \n",
       "35  sangat bagus buat mereview ulang kanji kosakat...   \n",
       "\n",
       "                                 text_casefoldingText  \\\n",
       "8   pelajaran hiragana katakana untuk pemula tidak...   \n",
       "11  aplikasi ini sangat membantu dalam latihan bah...   \n",
       "22  aku apk migi ini kotoba nya ku jadikan patokan...   \n",
       "32  its a very good app possible to make a roadmap...   \n",
       "35  sangat bagus buat mereview ulang kanji kosakat...   \n",
       "\n",
       "                                  text_final_splitted  \\\n",
       "8   pelajaran hiragana katakana untuk pemula tidak...   \n",
       "11  aplikasi ini sangat membantu dalam latihan bah...   \n",
       "22  aku apk migi ini kotoba nya ku jadikan patokan...   \n",
       "32  its a very good app possible to make a roadmap...   \n",
       "35  sangat bagus buat mereview ulang kanji kosakat...   \n",
       "\n",
       "                                      text_slangwords  \\\n",
       "8   pelajaran hiragana katakana untuk pemula tidak...   \n",
       "11  aplikasi ini sangat membantu dalam latihan bah...   \n",
       "22  aku apk migi ini kotoba nya ku jadikan patokan...   \n",
       "32  its a very bagus app possible to make a roadma...   \n",
       "35  sangat bagus buat mereview ulang kanji kosakat...   \n",
       "\n",
       "                                  text_tokenizingText  \\\n",
       "8   ['pelajaran', 'hiragana', 'katakana', 'untuk',...   \n",
       "11  ['aplikasi', 'ini', 'sangat', 'membantu', 'dal...   \n",
       "22  ['aku', 'apk', 'migi', 'ini', 'kotoba', 'nya',...   \n",
       "32  ['its', 'a', 'very', 'bagus', 'app', 'possible...   \n",
       "35  ['sangat', 'bagus', 'buat', 'mereview', 'ulang...   \n",
       "\n",
       "                                      text_normalized  \\\n",
       "8   ['pelajaran', 'hiragana', 'katakana', 'untuk',...   \n",
       "11  ['aplikasi', 'ini', 'sangat', 'membantu', 'dal...   \n",
       "22  ['aku', 'apk', 'migi', 'ini', 'kotoba', 'nya',...   \n",
       "32  ['its', 'a', 'very', 'bagus', 'app', 'possible...   \n",
       "35  ['sangat', 'bagus', 'buat', 'mereview', 'ulang...   \n",
       "\n",
       "                                        text_stopword  \\\n",
       "8   ['pelajaran', 'hiragana', 'katakana', 'pemula'...   \n",
       "11  ['aplikasi', 'membantu', 'latihan', 'bahasa', ...   \n",
       "22  ['apk', 'migi', 'kotoba', 'jadikan', 'patokan'...   \n",
       "32  ['bagus', 'app', 'possible', 'make', 'roadmap'...   \n",
       "35  ['bagus', 'mereview', 'ulang', 'kanji', 'kosak...   \n",
       "\n",
       "                                       text_sentenced  \\\n",
       "8             pelajaran hiragana katakana pemula adaa   \n",
       "11  aplikasi membantu latihan bahasa jepang belaja...   \n",
       "22  apk migi kotoba jadikan patokan utama otodidak...   \n",
       "32  bagus app possible make roadmap plan daily stu...   \n",
       "35   bagus mereview ulang kanji kosakata latihan jlpt   \n",
       "\n",
       "                                   text_final_stemmed     fitur_terdeteksi  \n",
       "8                    ajar hiragana katakana mula adaa               kotoba  \n",
       "11  aplikasi bantu latih bahasa jepang ajar kanjik...  bunpou,kanji,kotoba  \n",
       "22  apk migi kotoba jadi patok utama otodidak niat...               kotoba  \n",
       "32  bagus app possible make roadmap plan daily stu...         bunpou,kanji  \n",
       "35     bagus mereview ulang kanji kosakata latih jlpt         kanji,kotoba  "
      ]
     },
     "execution_count": 4,
     "metadata": {},
     "output_type": "execute_result"
    }
   ],
   "source": [
    "df_RevMigiiJLPT_clean_with_features.head()"
   ]
  },
  {
   "cell_type": "code",
   "execution_count": 5,
   "metadata": {
    "colab": {
     "base_uri": "https://localhost:8080/",
     "height": 17
    },
    "executionInfo": {
     "elapsed": 22,
     "status": "ok",
     "timestamp": 1749551699392,
     "user": {
      "displayName": "Syahreina Maulidya Jasmine MC705D5X0478",
      "userId": "00346893404112597538"
     },
     "user_tz": -420
    },
    "id": "TPHtdGNyFHym",
    "outputId": "a93f7383-e3c7-48ae-83ec-cfa112a7d89b"
   },
   "outputs": [],
   "source": [
    "df_RevMigiiJLPT_clean_with_features.to_csv(\"ulasan_heyjMigiiJLPTfeature.csv\", index=False)#\"ulasan_heyjMigiiJLPTfeature.csv\"\n",
    "#from google.colab import files\n",
    "#files.download(\"ulasan_heyjMigiiJLPTfeature.csv\")"
   ]
  }
 ],
 "metadata": {
  "colab": {
   "provenance": []
  },
  "kernelspec": {
   "display_name": "virtual_env",
   "language": "python",
   "name": "python3"
  },
  "language_info": {
   "codemirror_mode": {
    "name": "ipython",
    "version": 3
   },
   "file_extension": ".py",
   "mimetype": "text/x-python",
   "name": "python",
   "nbconvert_exporter": "python",
   "pygments_lexer": "ipython3",
   "version": "3.11.9"
  }
 },
 "nbformat": 4,
 "nbformat_minor": 0
}
