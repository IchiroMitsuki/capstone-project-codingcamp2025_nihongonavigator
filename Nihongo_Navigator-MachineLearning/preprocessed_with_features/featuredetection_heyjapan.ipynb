{
 "cells": [
  {
   "cell_type": "code",
   "execution_count": 1,
   "id": "be48bcd0",
   "metadata": {
    "id": "be48bcd0"
   },
   "outputs": [],
   "source": [
    "import pandas as pd"
   ]
  },
  {
   "cell_type": "code",
   "execution_count": 2,
   "id": "00a04e00",
   "metadata": {
    "id": "00a04e00"
   },
   "outputs": [],
   "source": [
    "df_Revheyjapan_clean = pd.read_csv(r\"C:\\Latihan_Python\\casptone-project-dicoding_nihongonavigator\\Preprocessesedtext\\ulasan_heyjapanclean2.csv\")#r\"/ulasan_heyjapanclean2.csv\""
   ]
  },
  {
   "cell_type": "code",
   "execution_count": 3,
   "id": "540c6d25",
   "metadata": {
    "id": "540c6d25"
   },
   "outputs": [],
   "source": [
    "feature_keywords = {\n",
    "    'kotoba': ['kosakata', 'vocab', 'kata', 'kotoba', 'kosa kata', 'kosa kt', 'kosakt'],\n",
    "    'bunpou': ['grammar', 'tatabahasa', 'bunpou', 'tata bahasa', 'bunpo', 'tata bhs', 'tt bhs', 'pola kalimat', 'struktur kalimat', 'susunan kalimat', 'kalimat'],\n",
    "    'kanji': ['kanji', 'huruf jepang', 'hrf jpng', 'tulisan jepang', 'karakter jepang', 'radikal']\n",
    "}\n",
    "\n",
    "def detect_features(text, keyword_dict):\n",
    "    detected = set()\n",
    "    for label, keywords in keyword_dict.items():\n",
    "        for word in keywords:\n",
    "            if word in text.lower():\n",
    "                detected.add(label)\n",
    "    return ','.join(sorted(detected))\n",
    "\n",
    "# Terapkan ke data Hey Japan\n",
    "df_Revheyjapan_clean['fitur_terdeteksi'] = df_Revheyjapan_clean['text_final_stemmed'].apply(\n",
    "    lambda x: detect_features(str(x), feature_keywords) if isinstance(x, str) else ''\n",
    ")\n",
    "\n",
    "# Filter hanya ulasan yang punya fitur (agar bisa lanjut ke tahap sentimen)\n",
    "df_Revheyjapan_clean_with_features = df_Revheyjapan_clean[df_Revheyjapan_clean['fitur_terdeteksi'] != '']\n"
   ]
  },
  {
   "cell_type": "code",
   "execution_count": 4,
   "id": "9d37cceb",
   "metadata": {
    "colab": {
     "base_uri": "https://localhost:8080/",
     "height": 625
    },
    "executionInfo": {
     "elapsed": 92,
     "status": "ok",
     "timestamp": 1749478937809,
     "user": {
      "displayName": "Syahreina Maulidya Jasmine MC705D5X0478",
      "userId": "00346893404112597538"
     },
     "user_tz": -420
    },
    "id": "9d37cceb",
    "outputId": "55c4d447-7035-4eee-b530-ee81c759ca95"
   },
   "outputs": [
    {
     "data": {
      "text/html": [
       "<div>\n",
       "<style scoped>\n",
       "    .dataframe tbody tr th:only-of-type {\n",
       "        vertical-align: middle;\n",
       "    }\n",
       "\n",
       "    .dataframe tbody tr th {\n",
       "        vertical-align: top;\n",
       "    }\n",
       "\n",
       "    .dataframe thead th {\n",
       "        text-align: right;\n",
       "    }\n",
       "</style>\n",
       "<table border=\"1\" class=\"dataframe\">\n",
       "  <thead>\n",
       "    <tr style=\"text-align: right;\">\n",
       "      <th></th>\n",
       "      <th>Review</th>\n",
       "      <th>text_clean</th>\n",
       "      <th>text_casefoldingText</th>\n",
       "      <th>text_final_splitted</th>\n",
       "      <th>text_slangwords</th>\n",
       "      <th>text_tokenizingText</th>\n",
       "      <th>text_normalized</th>\n",
       "      <th>text_stopword</th>\n",
       "      <th>text_sentenced</th>\n",
       "      <th>text_final_stemmed</th>\n",
       "      <th>fitur_terdeteksi</th>\n",
       "    </tr>\n",
       "  </thead>\n",
       "  <tbody>\n",
       "    <tr>\n",
       "      <th>50</th>\n",
       "      <td>sangat bermanfaat sekali. berkat aplikasi ini ...</td>\n",
       "      <td>sangat bermanfaat sekali berkat aplikasi ini s...</td>\n",
       "      <td>sangat bermanfaat sekali berkat aplikasi ini s...</td>\n",
       "      <td>sangat bermanfaat sekali berkat aplikasi ini s...</td>\n",
       "      <td>sangat bermanfaat sekali berkat aplikasi ini s...</td>\n",
       "      <td>['sangat', 'bermanfaat', 'sekali', 'berkat', '...</td>\n",
       "      <td>['sangat', 'bermanfaat', 'sekali', 'berkat', '...</td>\n",
       "      <td>['bermanfaat', 'berkat', 'aplikasi', 'memahami...</td>\n",
       "      <td>bermanfaat berkat aplikasi memahami kosakata j...</td>\n",
       "      <td>manfaat berkat aplikasi paham kosakata jepang</td>\n",
       "      <td>kotoba</td>\n",
       "    </tr>\n",
       "    <tr>\n",
       "      <th>120</th>\n",
       "      <td>hebat gara\" apk ini aku bisa menghafal huruf h...</td>\n",
       "      <td>hebat gara apk ini aku bisa menghafal huruf hi...</td>\n",
       "      <td>hebat gara apk ini aku bisa menghafal huruf hi...</td>\n",
       "      <td>hebat gara apk ini aku bisa menghafal huruf hi...</td>\n",
       "      <td>hebat gara apk ini aku bisa menghafal huruf hi...</td>\n",
       "      <td>['hebat', 'gara', 'apk', 'ini', 'aku', 'bisa',...</td>\n",
       "      <td>['hebat', 'gara', 'apk', 'ini', 'aku', 'bisa',...</td>\n",
       "      <td>['hebat', 'gara', 'apk', 'menghafal', 'huruf',...</td>\n",
       "      <td>hebat gara apk menghafal huruf hiragan katakan...</td>\n",
       "      <td>hebat gara apk hafal huruf hiragan katakana capat</td>\n",
       "      <td>kotoba</td>\n",
       "    </tr>\n",
       "    <tr>\n",
       "      <th>127</th>\n",
       "      <td>bagussss bangett.. ini lengkap banget huruf ka...</td>\n",
       "      <td>bagussss bangett ini lengkap banget huruf kanj...</td>\n",
       "      <td>bagussss bangett ini lengkap banget huruf kanj...</td>\n",
       "      <td>bagussss bangett ini lengkap banget huruf kanj...</td>\n",
       "      <td>bagussss bangett ini lengkap banget huruf kanj...</td>\n",
       "      <td>['bagussss', 'bangett', 'ini', 'lengkap', 'ban...</td>\n",
       "      <td>['bagus', 'banget', 'ini', 'lengkap', 'banget'...</td>\n",
       "      <td>['bagus', 'banget', 'lengkap', 'banget', 'huru...</td>\n",
       "      <td>bagus banget lengkap banget huruf kanji susah ...</td>\n",
       "      <td>bagus banget lengkap banget huruf kanji susah ...</td>\n",
       "      <td>kanji</td>\n",
       "    </tr>\n",
       "    <tr>\n",
       "      <th>155</th>\n",
       "      <td>apk nya bagus aku jadi bisa belajar Jepang dan...</td>\n",
       "      <td>apk nya bagus aku jadi bisa belajar Jepang dan...</td>\n",
       "      <td>apk nya bagus aku jadi bisa belajar jepang dan...</td>\n",
       "      <td>apk nya bagus aku jadi bisa belajar jepang dan...</td>\n",
       "      <td>apk nya bagus aku jadi bisa belajar jepang dan...</td>\n",
       "      <td>['apk', 'nya', 'bagus', 'aku', 'jadi', 'bisa',...</td>\n",
       "      <td>['apk', 'nya', 'bagus', 'aku', 'jadi', 'bisa',...</td>\n",
       "      <td>['apk', 'bagus', 'belajar', 'jepang', 'belajar...</td>\n",
       "      <td>apk bagus belajar jepang belajar kanji</td>\n",
       "      <td>apk bagus ajar jepang ajar kanji</td>\n",
       "      <td>kanji</td>\n",
       "    </tr>\n",
       "    <tr>\n",
       "      <th>161</th>\n",
       "      <td>sangat membantu, belajar menulis, membaca, tat...</td>\n",
       "      <td>sangat membantu belajar menulis membaca tata b...</td>\n",
       "      <td>sangat membantu belajar menulis membaca tata b...</td>\n",
       "      <td>sangat membantu belajar menulis membaca tata b...</td>\n",
       "      <td>sangat membantu belajar menulis membaca tata b...</td>\n",
       "      <td>['sangat', 'membantu', 'belajar', 'menulis', '...</td>\n",
       "      <td>['sangat', 'membantu', 'belajar', 'menulis', '...</td>\n",
       "      <td>['membantu', 'belajar', 'menulis', 'membaca', ...</td>\n",
       "      <td>membantu belajar menulis membaca tata bahasa k...</td>\n",
       "      <td>bantu ajar tulis baca tata bahasa kanji</td>\n",
       "      <td>bunpou,kanji</td>\n",
       "    </tr>\n",
       "  </tbody>\n",
       "</table>\n",
       "</div>"
      ],
      "text/plain": [
       "                                                Review  \\\n",
       "50   sangat bermanfaat sekali. berkat aplikasi ini ...   \n",
       "120  hebat gara\" apk ini aku bisa menghafal huruf h...   \n",
       "127  bagussss bangett.. ini lengkap banget huruf ka...   \n",
       "155  apk nya bagus aku jadi bisa belajar Jepang dan...   \n",
       "161  sangat membantu, belajar menulis, membaca, tat...   \n",
       "\n",
       "                                            text_clean  \\\n",
       "50   sangat bermanfaat sekali berkat aplikasi ini s...   \n",
       "120  hebat gara apk ini aku bisa menghafal huruf hi...   \n",
       "127  bagussss bangett ini lengkap banget huruf kanj...   \n",
       "155  apk nya bagus aku jadi bisa belajar Jepang dan...   \n",
       "161  sangat membantu belajar menulis membaca tata b...   \n",
       "\n",
       "                                  text_casefoldingText  \\\n",
       "50   sangat bermanfaat sekali berkat aplikasi ini s...   \n",
       "120  hebat gara apk ini aku bisa menghafal huruf hi...   \n",
       "127  bagussss bangett ini lengkap banget huruf kanj...   \n",
       "155  apk nya bagus aku jadi bisa belajar jepang dan...   \n",
       "161  sangat membantu belajar menulis membaca tata b...   \n",
       "\n",
       "                                   text_final_splitted  \\\n",
       "50   sangat bermanfaat sekali berkat aplikasi ini s...   \n",
       "120  hebat gara apk ini aku bisa menghafal huruf hi...   \n",
       "127  bagussss bangett ini lengkap banget huruf kanj...   \n",
       "155  apk nya bagus aku jadi bisa belajar jepang dan...   \n",
       "161  sangat membantu belajar menulis membaca tata b...   \n",
       "\n",
       "                                       text_slangwords  \\\n",
       "50   sangat bermanfaat sekali berkat aplikasi ini s...   \n",
       "120  hebat gara apk ini aku bisa menghafal huruf hi...   \n",
       "127  bagussss bangett ini lengkap banget huruf kanj...   \n",
       "155  apk nya bagus aku jadi bisa belajar jepang dan...   \n",
       "161  sangat membantu belajar menulis membaca tata b...   \n",
       "\n",
       "                                   text_tokenizingText  \\\n",
       "50   ['sangat', 'bermanfaat', 'sekali', 'berkat', '...   \n",
       "120  ['hebat', 'gara', 'apk', 'ini', 'aku', 'bisa',...   \n",
       "127  ['bagussss', 'bangett', 'ini', 'lengkap', 'ban...   \n",
       "155  ['apk', 'nya', 'bagus', 'aku', 'jadi', 'bisa',...   \n",
       "161  ['sangat', 'membantu', 'belajar', 'menulis', '...   \n",
       "\n",
       "                                       text_normalized  \\\n",
       "50   ['sangat', 'bermanfaat', 'sekali', 'berkat', '...   \n",
       "120  ['hebat', 'gara', 'apk', 'ini', 'aku', 'bisa',...   \n",
       "127  ['bagus', 'banget', 'ini', 'lengkap', 'banget'...   \n",
       "155  ['apk', 'nya', 'bagus', 'aku', 'jadi', 'bisa',...   \n",
       "161  ['sangat', 'membantu', 'belajar', 'menulis', '...   \n",
       "\n",
       "                                         text_stopword  \\\n",
       "50   ['bermanfaat', 'berkat', 'aplikasi', 'memahami...   \n",
       "120  ['hebat', 'gara', 'apk', 'menghafal', 'huruf',...   \n",
       "127  ['bagus', 'banget', 'lengkap', 'banget', 'huru...   \n",
       "155  ['apk', 'bagus', 'belajar', 'jepang', 'belajar...   \n",
       "161  ['membantu', 'belajar', 'menulis', 'membaca', ...   \n",
       "\n",
       "                                        text_sentenced  \\\n",
       "50   bermanfaat berkat aplikasi memahami kosakata j...   \n",
       "120  hebat gara apk menghafal huruf hiragan katakan...   \n",
       "127  bagus banget lengkap banget huruf kanji susah ...   \n",
       "155             apk bagus belajar jepang belajar kanji   \n",
       "161  membantu belajar menulis membaca tata bahasa k...   \n",
       "\n",
       "                                    text_final_stemmed fitur_terdeteksi  \n",
       "50       manfaat berkat aplikasi paham kosakata jepang           kotoba  \n",
       "120  hebat gara apk hafal huruf hiragan katakana capat           kotoba  \n",
       "127  bagus banget lengkap banget huruf kanji susah ...            kanji  \n",
       "155                   apk bagus ajar jepang ajar kanji            kanji  \n",
       "161            bantu ajar tulis baca tata bahasa kanji     bunpou,kanji  "
      ]
     },
     "execution_count": 4,
     "metadata": {},
     "output_type": "execute_result"
    }
   ],
   "source": [
    "df_Revheyjapan_clean_with_features.head()"
   ]
  },
  {
   "cell_type": "code",
   "execution_count": 5,
   "id": "6e1616ff",
   "metadata": {
    "colab": {
     "base_uri": "https://localhost:8080/",
     "height": 34
    },
    "executionInfo": {
     "elapsed": 131,
     "status": "ok",
     "timestamp": 1749478977512,
     "user": {
      "displayName": "Syahreina Maulidya Jasmine MC705D5X0478",
      "userId": "00346893404112597538"
     },
     "user_tz": -420
    },
    "id": "6e1616ff",
    "outputId": "76e06b7d-a863-4c97-f2fc-6ab37cabe567"
   },
   "outputs": [],
   "source": [
    "df_Revheyjapan_clean_with_features.to_csv(r\"C:\\Latihan_Python\\casptone-project-dicoding_nihongonavigator\\preprocessed_with_features\\ulasan_heyjapancleanfeature.csv\", index=False)\n",
    "#from google.colab import files\n",
    "#files.download(\"ulasan_heyjapancleanfeature.csv\")"
   ]
  }
 ],
 "metadata": {
  "colab": {
   "provenance": []
  },
  "kernelspec": {
   "display_name": "virtual_env",
   "language": "python",
   "name": "python3"
  },
  "language_info": {
   "codemirror_mode": {
    "name": "ipython",
    "version": 3
   },
   "file_extension": ".py",
   "mimetype": "text/x-python",
   "name": "python",
   "nbconvert_exporter": "python",
   "pygments_lexer": "ipython3",
   "version": "3.11.9"
  }
 },
 "nbformat": 4,
 "nbformat_minor": 5
}
