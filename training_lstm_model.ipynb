{
 "cells": [
  {
   "cell_type": "code",
   "execution_count": 1,
   "id": "7abca693",
   "metadata": {},
   "outputs": [],
   "source": [
    "import pandas as pd\n",
    "import pickle\n",
    "\n",
    "import matplotlib.pyplot as plt\n",
    "import seaborn as sns\n",
    "\n",
    "#Library untuk tahap Modelling\n",
    "from sklearn.model_selection import train_test_split\n",
    "from sklearn.metrics import classification_report, accuracy_score\n",
    "\n",
    "#Library untuk menggunakan algoritma Deep Learning\n",
    "import tensorflow as tf\n",
    "from tensorflow.keras.preprocessing.text import Tokenizer\n",
    "from tensorflow.keras.preprocessing.sequence import pad_sequences\n",
    "from tensorflow.keras.models import Sequential\n",
    "from tensorflow.keras.layers import Embedding, LSTM, Dense, Dropout, Bidirectional\n",
    "from tensorflow.keras.utils import to_categorical\n",
    "from sklearn.preprocessing import LabelEncoder\n",
    "from tensorflow.keras.callbacks import EarlyStopping, ModelCheckpoint\n",
    "from keras.callbacks import Callback, EarlyStopping, ModelCheckpoint\n",
    "from sklearn.metrics import confusion_matrix, classification_report, ConfusionMatrixDisplay\n",
    "from sklearn.utils import resample"
   ]
  },
  {
   "cell_type": "code",
   "execution_count": 2,
   "id": "97dbf647",
   "metadata": {},
   "outputs": [],
   "source": [
    "df_AllApp_Labeled = pd.read_csv(r\"C:\\Latihan_Python\\casptone-project-dicoding_nihongonavigator\\AllAppRev_Labeled.csv\")"
   ]
  },
  {
   "cell_type": "code",
   "execution_count": 3,
   "id": "f21ebff3",
   "metadata": {},
   "outputs": [
    {
     "name": "stdout",
     "output_type": "stream",
     "text": [
      "Distribusi awal:\n",
      "polarity\n",
      "positive    6521\n",
      "neutral     1015\n",
      "negative      34\n",
      "Name: count, dtype: int64\n",
      "\n",
      "Distribusi setelah balancing:\n",
      "polarity\n",
      "negative    6521\n",
      "neutral     6521\n",
      "positive    6521\n",
      "Name: count, dtype: int64\n"
     ]
    }
   ],
   "source": [
    "# Langkah 1: Cek distribusi label\n",
    "print(\"Distribusi awal:\")\n",
    "print(df_AllApp_Labeled['polarity'].value_counts())\n",
    "\n",
    "# Langkah 2: Pisahkan data berdasarkan label\n",
    "df_AllApp_Labeled_positive = df_AllApp_Labeled[df_AllApp_Labeled['polarity'] == 'positive']\n",
    "df_AllApp_Labeled_neutral  = df_AllApp_Labeled[df_AllApp_Labeled['polarity'] == 'neutral']\n",
    "df_AllApp_Labeled_negative = df_AllApp_Labeled[df_AllApp_Labeled['polarity'] == 'negative']\n",
    "\n",
    "# Langkah 3: Oversample yang minoritas (neutral dan negative) hingga sama banyak dengan positive\n",
    "df_AllApp_Labeled_neutral_upsampled = resample(df_AllApp_Labeled_neutral,\n",
    "                                replace=True,\n",
    "                                n_samples=len(df_AllApp_Labeled_positive),\n",
    "                                random_state=42)\n",
    "\n",
    "df_AllApp_Labeled_negative_upsampled = resample(df_AllApp_Labeled_negative,\n",
    "                                 replace=True,\n",
    "                                 n_samples=len(df_AllApp_Labeled_positive),\n",
    "                                 random_state=42)\n",
    "\n",
    "# Langkah 4: Gabungkan semua\n",
    "df_AllApp_Labeled_balanced = pd.concat([df_AllApp_Labeled_positive, df_AllApp_Labeled_neutral_upsampled, df_AllApp_Labeled_negative_upsampled])\n",
    "\n",
    "# Langkah 5: Shuffle\n",
    "df_AllApp_Labeled_balanced = df_AllApp_Labeled_balanced.sample(frac=1, random_state=42).reset_index(drop=True)\n",
    "\n",
    "# Cek hasil balancing\n",
    "print(\"\\nDistribusi setelah balancing:\")\n",
    "print(df_AllApp_Labeled_balanced['polarity'].value_counts())\n",
    "\n",
    "# -----------------------\n",
    "# 2. Tokenizer & Padding\n",
    "# -----------------------\n",
    "\n",
    "MAX_LEN = 200  # atau sesuai panjang rata-rata teks\n",
    "\n",
    "tokenizer = Tokenizer(num_words=10000, oov_token='<OOV>')\n",
    "tokenizer.fit_on_texts(df_AllApp_Labeled_balanced['text_final_stemmed'])\n",
    "\n",
    "sequences = tokenizer.texts_to_sequences(df_AllApp_Labeled_balanced['text_final_stemmed'])\n",
    "padded = pad_sequences(sequences, maxlen=MAX_LEN, padding='post')\n",
    "\n",
    "# -----------------------\n",
    "# 3. Encode Label\n",
    "# -----------------------\n",
    "\n",
    "label_encoder = LabelEncoder()\n",
    "labels = label_encoder.fit_transform(df_AllApp_Labeled_balanced['polarity'])  # 0, 1, 2\n",
    "\n",
    "# Ubah ke one-hot encoding\n",
    "labels_onehot = to_categorical(labels)\n",
    "\n"
   ]
  },
  {
   "cell_type": "code",
   "execution_count": 4,
   "id": "5e25287e",
   "metadata": {},
   "outputs": [
    {
     "name": "stdout",
     "output_type": "stream",
     "text": [
      "\n",
      "Jumlah data latih: 15650 | data uji: 3913\n"
     ]
    }
   ],
   "source": [
    "# -----------------------\n",
    "# Train-Test Split\n",
    "# -----------------------\n",
    "\n",
    "X_train, X_test, y_train, y_test = train_test_split(\n",
    "    padded, labels_onehot, test_size=0.2, random_state=42, stratify=labels\n",
    ")\n",
    "\n",
    "print(f\"\\nJumlah data latih: {len(X_train)} | data uji: {len(X_test)}\")"
   ]
  },
  {
   "cell_type": "code",
   "execution_count": 5,
   "id": "9cc396c3",
   "metadata": {},
   "outputs": [
    {
     "name": "stderr",
     "output_type": "stream",
     "text": [
      "c:\\Users\\User\\virtual_env\\Lib\\site-packages\\keras\\src\\layers\\core\\embedding.py:97: UserWarning: Argument `input_length` is deprecated. Just remove it.\n",
      "  warnings.warn(\n"
     ]
    },
    {
     "data": {
      "text/html": [
       "<pre style=\"white-space:pre;overflow-x:auto;line-height:normal;font-family:Menlo,'DejaVu Sans Mono',consolas,'Courier New',monospace\"><span style=\"font-weight: bold\">Model: \"sequential\"</span>\n",
       "</pre>\n"
      ],
      "text/plain": [
       "\u001b[1mModel: \"sequential\"\u001b[0m\n"
      ]
     },
     "metadata": {},
     "output_type": "display_data"
    },
    {
     "data": {
      "text/html": [
       "<pre style=\"white-space:pre;overflow-x:auto;line-height:normal;font-family:Menlo,'DejaVu Sans Mono',consolas,'Courier New',monospace\">┏━━━━━━━━━━━━━━━━━━━━━━━━━━━━━━━━━┳━━━━━━━━━━━━━━━━━━━━━━━━┳━━━━━━━━━━━━━━━┓\n",
       "┃<span style=\"font-weight: bold\"> Layer (type)                    </span>┃<span style=\"font-weight: bold\"> Output Shape           </span>┃<span style=\"font-weight: bold\">       Param # </span>┃\n",
       "┡━━━━━━━━━━━━━━━━━━━━━━━━━━━━━━━━━╇━━━━━━━━━━━━━━━━━━━━━━━━╇━━━━━━━━━━━━━━━┩\n",
       "│ embedding (<span style=\"color: #0087ff; text-decoration-color: #0087ff\">Embedding</span>)           │ ?                      │   <span style=\"color: #00af00; text-decoration-color: #00af00\">0</span> (unbuilt) │\n",
       "├─────────────────────────────────┼────────────────────────┼───────────────┤\n",
       "│ bidirectional (<span style=\"color: #0087ff; text-decoration-color: #0087ff\">Bidirectional</span>)   │ ?                      │   <span style=\"color: #00af00; text-decoration-color: #00af00\">0</span> (unbuilt) │\n",
       "├─────────────────────────────────┼────────────────────────┼───────────────┤\n",
       "│ dropout (<span style=\"color: #0087ff; text-decoration-color: #0087ff\">Dropout</span>)               │ ?                      │             <span style=\"color: #00af00; text-decoration-color: #00af00\">0</span> │\n",
       "├─────────────────────────────────┼────────────────────────┼───────────────┤\n",
       "│ dense (<span style=\"color: #0087ff; text-decoration-color: #0087ff\">Dense</span>)                   │ ?                      │   <span style=\"color: #00af00; text-decoration-color: #00af00\">0</span> (unbuilt) │\n",
       "├─────────────────────────────────┼────────────────────────┼───────────────┤\n",
       "│ dense_1 (<span style=\"color: #0087ff; text-decoration-color: #0087ff\">Dense</span>)                 │ ?                      │   <span style=\"color: #00af00; text-decoration-color: #00af00\">0</span> (unbuilt) │\n",
       "└─────────────────────────────────┴────────────────────────┴───────────────┘\n",
       "</pre>\n"
      ],
      "text/plain": [
       "┏━━━━━━━━━━━━━━━━━━━━━━━━━━━━━━━━━┳━━━━━━━━━━━━━━━━━━━━━━━━┳━━━━━━━━━━━━━━━┓\n",
       "┃\u001b[1m \u001b[0m\u001b[1mLayer (type)                   \u001b[0m\u001b[1m \u001b[0m┃\u001b[1m \u001b[0m\u001b[1mOutput Shape          \u001b[0m\u001b[1m \u001b[0m┃\u001b[1m \u001b[0m\u001b[1m      Param #\u001b[0m\u001b[1m \u001b[0m┃\n",
       "┡━━━━━━━━━━━━━━━━━━━━━━━━━━━━━━━━━╇━━━━━━━━━━━━━━━━━━━━━━━━╇━━━━━━━━━━━━━━━┩\n",
       "│ embedding (\u001b[38;5;33mEmbedding\u001b[0m)           │ ?                      │   \u001b[38;5;34m0\u001b[0m (unbuilt) │\n",
       "├─────────────────────────────────┼────────────────────────┼───────────────┤\n",
       "│ bidirectional (\u001b[38;5;33mBidirectional\u001b[0m)   │ ?                      │   \u001b[38;5;34m0\u001b[0m (unbuilt) │\n",
       "├─────────────────────────────────┼────────────────────────┼───────────────┤\n",
       "│ dropout (\u001b[38;5;33mDropout\u001b[0m)               │ ?                      │             \u001b[38;5;34m0\u001b[0m │\n",
       "├─────────────────────────────────┼────────────────────────┼───────────────┤\n",
       "│ dense (\u001b[38;5;33mDense\u001b[0m)                   │ ?                      │   \u001b[38;5;34m0\u001b[0m (unbuilt) │\n",
       "├─────────────────────────────────┼────────────────────────┼───────────────┤\n",
       "│ dense_1 (\u001b[38;5;33mDense\u001b[0m)                 │ ?                      │   \u001b[38;5;34m0\u001b[0m (unbuilt) │\n",
       "└─────────────────────────────────┴────────────────────────┴───────────────┘\n"
      ]
     },
     "metadata": {},
     "output_type": "display_data"
    },
    {
     "data": {
      "text/html": [
       "<pre style=\"white-space:pre;overflow-x:auto;line-height:normal;font-family:Menlo,'DejaVu Sans Mono',consolas,'Courier New',monospace\"><span style=\"font-weight: bold\"> Total params: </span><span style=\"color: #00af00; text-decoration-color: #00af00\">0</span> (0.00 B)\n",
       "</pre>\n"
      ],
      "text/plain": [
       "\u001b[1m Total params: \u001b[0m\u001b[38;5;34m0\u001b[0m (0.00 B)\n"
      ]
     },
     "metadata": {},
     "output_type": "display_data"
    },
    {
     "data": {
      "text/html": [
       "<pre style=\"white-space:pre;overflow-x:auto;line-height:normal;font-family:Menlo,'DejaVu Sans Mono',consolas,'Courier New',monospace\"><span style=\"font-weight: bold\"> Trainable params: </span><span style=\"color: #00af00; text-decoration-color: #00af00\">0</span> (0.00 B)\n",
       "</pre>\n"
      ],
      "text/plain": [
       "\u001b[1m Trainable params: \u001b[0m\u001b[38;5;34m0\u001b[0m (0.00 B)\n"
      ]
     },
     "metadata": {},
     "output_type": "display_data"
    },
    {
     "data": {
      "text/html": [
       "<pre style=\"white-space:pre;overflow-x:auto;line-height:normal;font-family:Menlo,'DejaVu Sans Mono',consolas,'Courier New',monospace\"><span style=\"font-weight: bold\"> Non-trainable params: </span><span style=\"color: #00af00; text-decoration-color: #00af00\">0</span> (0.00 B)\n",
       "</pre>\n"
      ],
      "text/plain": [
       "\u001b[1m Non-trainable params: \u001b[0m\u001b[38;5;34m0\u001b[0m (0.00 B)\n"
      ]
     },
     "metadata": {},
     "output_type": "display_data"
    }
   ],
   "source": [
    "model = Sequential()\n",
    "model.add(Embedding(input_dim=10000, output_dim=128, input_length=MAX_LEN))  # MAX_LEN dari pipeline tadi\n",
    "model.add(Bidirectional(LSTM(128, return_sequences=False)))\n",
    "model.add(Dropout(0.3))\n",
    "model.add(Dense(64, activation='relu'))\n",
    "model.add(Dense(y_train.shape[1], activation='softmax'))  # jumlah kelas = dimensi one-hot\n",
    "\n",
    "model.compile(loss='categorical_crossentropy', optimizer='rmsprop', metrics=['accuracy'])\n",
    "\n",
    "model.summary()"
   ]
  },
  {
   "cell_type": "code",
   "execution_count": 7,
   "id": "53b4bc60",
   "metadata": {},
   "outputs": [],
   "source": [
    "# Custom callback: Berhenti kalau akurasi training dan val > 98%\n",
    "class myCallback(Callback):\n",
    "    def on_epoch_end(self, epoch, logs=None):\n",
    "        if logs.get('accuracy') > 0.98 and logs.get('val_accuracy') > 0.98:\n",
    "            print(\"\\n🚨 Akurasi training dan validasi >98%! Pelatihan dihentikan.\")\n",
    "            self.model.stop_training = True\n",
    "\n",
    "# Early stopping: stop jika val_loss tidak membaik dalam 5 epoch\n",
    "early_stop = EarlyStopping(\n",
    "    monitor='val_loss',\n",
    "    patience=5,\n",
    "    restore_best_weights=True,  # Optional, agar bobot terbaik diambil\n",
    "    verbose=1\n",
    ")\n",
    "\n",
    "# Simpan model terbaik berdasarkan val_accuracy\n",
    "checkpoint = ModelCheckpoint(\n",
    "    'best_model_lstm.h5',\n",
    "    monitor='val_accuracy',\n",
    "    save_best_only=True,\n",
    "    mode='max',\n",
    "    verbose=1\n",
    ")\n",
    "\n",
    "\n",
    "# Gabungkan semua callbacks\n",
    "callbacks = [early_stop, checkpoint, myCallback()]"
   ]
  },
  {
   "cell_type": "code",
   "execution_count": 8,
   "id": "8a9b406c",
   "metadata": {},
   "outputs": [
    {
     "name": "stdout",
     "output_type": "stream",
     "text": [
      "Epoch 1/30\n",
      "\u001b[1m245/245\u001b[0m \u001b[32m━━━━━━━━━━━━━━━━━━━━\u001b[0m\u001b[37m\u001b[0m \u001b[1m0s\u001b[0m 1s/step - accuracy: 0.7939 - loss: 0.5174\n",
      "Epoch 1: val_accuracy improved from -inf to 0.98441, saving model to best_model_lstm.h5\n"
     ]
    },
    {
     "name": "stderr",
     "output_type": "stream",
     "text": [
      "WARNING:absl:You are saving your model as an HDF5 file via `model.save()` or `keras.saving.save_model(model)`. This file format is considered legacy. We recommend using instead the native Keras format, e.g. `model.save('my_model.keras')` or `keras.saving.save_model(model, 'my_model.keras')`. \n"
     ]
    },
    {
     "name": "stdout",
     "output_type": "stream",
     "text": [
      "\u001b[1m245/245\u001b[0m \u001b[32m━━━━━━━━━━━━━━━━━━━━\u001b[0m\u001b[37m\u001b[0m \u001b[1m285s\u001b[0m 1s/step - accuracy: 0.7944 - loss: 0.5163 - val_accuracy: 0.9844 - val_loss: 0.0474\n",
      "Epoch 2/30\n",
      "\u001b[1m245/245\u001b[0m \u001b[32m━━━━━━━━━━━━━━━━━━━━\u001b[0m\u001b[37m\u001b[0m \u001b[1m0s\u001b[0m 889ms/step - accuracy: 0.9869 - loss: 0.0510\n",
      "Epoch 2: val_accuracy did not improve from 0.98441\n",
      "\u001b[1m245/245\u001b[0m \u001b[32m━━━━━━━━━━━━━━━━━━━━\u001b[0m\u001b[37m\u001b[0m \u001b[1m232s\u001b[0m 947ms/step - accuracy: 0.9869 - loss: 0.0514 - val_accuracy: 0.9767 - val_loss: 0.0892\n",
      "Epoch 3/30\n",
      "\u001b[1m245/245\u001b[0m \u001b[32m━━━━━━━━━━━━━━━━━━━━\u001b[0m\u001b[37m\u001b[0m \u001b[1m0s\u001b[0m 1s/step - accuracy: 0.9847 - loss: 0.0521\n",
      "Epoch 3: val_accuracy improved from 0.98441 to 0.99233, saving model to best_model_lstm.h5\n"
     ]
    },
    {
     "name": "stderr",
     "output_type": "stream",
     "text": [
      "WARNING:absl:You are saving your model as an HDF5 file via `model.save()` or `keras.saving.save_model(model)`. This file format is considered legacy. We recommend using instead the native Keras format, e.g. `model.save('my_model.keras')` or `keras.saving.save_model(model, 'my_model.keras')`. \n"
     ]
    },
    {
     "name": "stdout",
     "output_type": "stream",
     "text": [
      "\n",
      "🚨 Akurasi training dan validasi >98%! Pelatihan dihentikan.\n",
      "\u001b[1m245/245\u001b[0m \u001b[32m━━━━━━━━━━━━━━━━━━━━\u001b[0m\u001b[37m\u001b[0m \u001b[1m266s\u001b[0m 1s/step - accuracy: 0.9847 - loss: 0.0522 - val_accuracy: 0.9923 - val_loss: 0.0294\n",
      "Restoring model weights from the end of the best epoch: 3.\n"
     ]
    }
   ],
   "source": [
    "# Training\n",
    "history = model.fit(\n",
    "    X_train, y_train,\n",
    "    validation_data=(X_test, y_test),\n",
    "    epochs=30,\n",
    "    batch_size=64,\n",
    "    callbacks=callbacks,\n",
    "    verbose=1\n",
    ")"
   ]
  },
  {
   "cell_type": "code",
   "execution_count": 9,
   "id": "b6ce98d6",
   "metadata": {},
   "outputs": [
    {
     "name": "stdout",
     "output_type": "stream",
     "text": [
      "Akurasi pada data test: 0.9923332333564758\n"
     ]
    }
   ],
   "source": [
    "loss, accuracy = model.evaluate(X_test, y_test, verbose=0)\n",
    "print(\"Akurasi pada data test:\", accuracy)"
   ]
  },
  {
   "cell_type": "code",
   "execution_count": 11,
   "id": "d833e987",
   "metadata": {},
   "outputs": [
    {
     "data": {
      "image/png": "[encoded data removed]",
      "text/plain": [
       "<Figure size 640x480 with 1 Axes>"
      ]
     },
     "metadata": {},
     "output_type": "display_data"
    },
    {
     "data": {
      "image/png": "[encoded data removed]",
      "text/plain": [
       "<Figure size 640x480 with 1 Axes>"
      ]
     },
     "metadata": {},
     "output_type": "display_data"
    }
   ],
   "source": [
    "# Plot akurasi\n",
    "plt.plot(history.history['accuracy'], label='Train Accuracy')\n",
    "plt.plot(history.history['val_accuracy'], label='Validation Accuracy')\n",
    "plt.title('Akurasi Model')\n",
    "plt.xlabel('Epoch')\n",
    "plt.ylabel('Accuracy')\n",
    "plt.legend()\n",
    "plt.show()\n",
    "\n",
    "# Plot loss\n",
    "plt.plot(history.history['loss'], label='Train Loss')\n",
    "plt.plot(history.history['val_loss'], label='Validation Loss')\n",
    "plt.title('Loss Model')\n",
    "plt.xlabel('Epoch')\n",
    "plt.ylabel('Loss')\n",
    "plt.legend()\n",
    "plt.show()\n"
   ]
  },
  {
   "cell_type": "code",
   "execution_count": 12,
   "id": "1d7c1b72",
   "metadata": {},
   "outputs": [
    {
     "name": "stdout",
     "output_type": "stream",
     "text": [
      "\u001b[1m123/123\u001b[0m \u001b[32m━━━━━━━━━━━━━━━━━━━━\u001b[0m\u001b[37m\u001b[0m \u001b[1m22s\u001b[0m 168ms/step\n"
     ]
    },
    {
     "data": {
      "image/png": "[encoded data removed]",
      "text/plain": [
       "<Figure size 640x480 with 2 Axes>"
      ]
     },
     "metadata": {},
     "output_type": "display_data"
    },
    {
     "name": "stdout",
     "output_type": "stream",
     "text": [
      "              precision    recall  f1-score   support\n",
      "\n",
      "           0       1.00      1.00      1.00      1304\n",
      "           1       0.98      1.00      0.99      1304\n",
      "           2       1.00      0.98      0.99      1305\n",
      "\n",
      "    accuracy                           0.99      3913\n",
      "   macro avg       0.99      0.99      0.99      3913\n",
      "weighted avg       0.99      0.99      0.99      3913\n",
      "\n"
     ]
    }
   ],
   "source": [
    "\n",
    "# Prediksi pada data uji\n",
    "y_pred = model.predict(X_test)\n",
    "y_pred_classes = y_pred.argmax(axis=1)  # untuk multi-class softmax\n",
    "y_true = y_test.argmax(axis=1)\n",
    "\n",
    "# Plot Confusion Matrix\n",
    "cm = confusion_matrix(y_true, y_pred_classes)\n",
    "disp = ConfusionMatrixDisplay(confusion_matrix=cm)\n",
    "disp.plot(cmap=plt.cm.Blues)\n",
    "plt.title('Confusion Matrix')\n",
    "plt.show()\n",
    "\n",
    "# Optional: laporan klasifikasi\n",
    "print(classification_report(y_true, y_pred_classes))\n"
   ]
  },
  {
   "cell_type": "code",
   "execution_count": 13,
   "id": "c33c92ff",
   "metadata": {},
   "outputs": [],
   "source": [
    "# Simpan model (sudah ada jika pakai ModelCheckpoint)\n",
    "# model.save('model_lstm_final.h5')\n",
    "\n",
    "# Simpan tokenizer\n",
    "with open('tokenizer_lstm.pkl', 'wb') as f:\n",
    "    pickle.dump(tokenizer, f)\n",
    "\n",
    "# Simpan label encoder (jika diperlukan)\n",
    "with open('label_encoder.pkl', 'wb') as f:\n",
    "    pickle.dump(label_encoder, f)\n"
   ]
  },
  {
   "cell_type": "markdown",
   "id": "d5adf85c",
   "metadata": {},
   "source": [
    "Inferensi"
   ]
  },
  {
   "cell_type": "code",
   "execution_count": 14,
   "id": "d873702c",
   "metadata": {},
   "outputs": [
    {
     "name": "stderr",
     "output_type": "stream",
     "text": [
      "[nltk_data] Downloading package punkt_tab to\n",
      "[nltk_data]     C:\\Users\\User\\AppData\\Roaming\\nltk_data...\n",
      "[nltk_data]   Package punkt_tab is already up-to-date!\n",
      "[nltk_data] Downloading package stopwords to\n",
      "[nltk_data]     C:\\Users\\User\\AppData\\Roaming\\nltk_data...\n",
      "[nltk_data]   Package stopwords is already up-to-date!\n"
     ]
    }
   ],
   "source": [
    "import re\n",
    "import string\n",
    "import nltk\n",
    "nltk.data.path.append(r\"C:\\Users\\User\\AppData\\Roaming\\nltk_data\")\n",
    "from nltk.corpus import stopwords\n",
    "from nltk.tokenize import word_tokenize\n",
    "nltk.download('punkt_tab')\n",
    "nltk.download('stopwords')\n",
    "from Sastrawi.Stemmer.StemmerFactory import StemmerFactory"
   ]
  },
  {
   "cell_type": "code",
   "execution_count": 15,
   "id": "3176c5c3",
   "metadata": {},
   "outputs": [],
   "source": [
    "def cleaningText(text):\n",
    "    text = re.sub(r'@[A-Za-z0-9]+', '', text) # menghapus mention\n",
    "    text = re.sub(r'#[A-Za-z0-9]+', '', text) # menghapus hashtag\n",
    "    text = re.sub(r'RT[\\s]', '', text) # menghapus RT\n",
    "    text = re.sub(r\"http\\S+\", '', text) # menghapus link\n",
    "    text = re.sub(r'[0-9]+', '', text) # menghapus angka\n",
    "    text = re.sub(r'[^\\w\\s]', '', text) # menghapus karakter selain huruf dan angka\n",
    "    text = re.sub(r'[^A-Za-z\\s]', '', text)\n",
    "\n",
    "\n",
    "    text = text.replace('\\n', ' ') # mengganti baris baru dengan spasi\n",
    "    text = text.translate(str.maketrans('', '', string.punctuation)) # menghapus semua tanda baca\n",
    "    text = text.strip(' ') # menghapus karakter spasi dari kiri dan kanan teks\n",
    "    return text\n",
    "\n",
    "def casefoldingText(text): # Mengubah semua karakter dalam teks menjadi huruf kecil\n",
    "    text = text.lower()\n",
    "    return text\n",
    "\n",
    "def tokenizingText(text): # Memecah atau membagi string, teks menjadi daftar token\n",
    "    text = word_tokenize(text)\n",
    "    return text\n",
    "\n",
    "def filteringText(text): # Menghapus stopwords dalam teks\n",
    "    listStopwords = set(stopwords.words('indonesian'))\n",
    "    listStopwords1 = set(stopwords.words('english'))\n",
    "    listStopwords.update(listStopwords1)\n",
    "    listStopwords.update(['iya','yaa','gak','nya','na','sih','ku',\"di\",\"ga\",\"ya\",\"gaa\",\"loh\",\"kah\",\"woi\",\"woii\",\"woy\", \"wkwk\", \"uuu\"])\n",
    "    important_words = {'baik', 'buruk', 'mantap', 'bagus', 'jelek', 'mudah', 'cepat', 'nyaman'} #Bisa ditambah\n",
    "    # Hapus kata penting dari daftar stopwords\n",
    "    listStopwords = listStopwords - important_words\n",
    "\n",
    "    filtered = []\n",
    "    for txt in text:\n",
    "        if txt not in listStopwords:\n",
    "            filtered.append(txt)\n",
    "    text = filtered\n",
    "    return text\n",
    "\n",
    "def stemmingText(text): # Mengurangi kata ke bentuk dasarnya yang menghilangkan imbuhan awalan dan akhiran atau ke akar kata\n",
    "    # Membuat objek stemmer\n",
    "    factory = StemmerFactory()\n",
    "    stemmer = factory.create_stemmer()\n",
    "\n",
    "    # Memecah teks menjadi daftar kata\n",
    "    words = text.split()\n",
    "\n",
    "    # Menerapkan stemming pada setiap kata dalam daftar\n",
    "    stemmed_words = [stemmer.stem(word) for word in words]\n",
    "\n",
    "    # Menggabungkan kata-kata yang telah distem\n",
    "    stemmed_text = ' '.join(stemmed_words)\n",
    "\n",
    "    return stemmed_text\n",
    "\n",
    "def toSentence(list_words): # Mengubah daftar kata menjadi kalimat\n",
    "    sentence = ' '.join(word for word in list_words)\n",
    "    return sentence"
   ]
  },
  {
   "cell_type": "code",
   "execution_count": 16,
   "id": "6b3ceaa6",
   "metadata": {},
   "outputs": [
    {
     "name": "stdout",
     "output_type": "stream",
     "text": [
      "7an -> tujuan\n",
      "@ -> di\n",
      "ababil -> anak ingusan\n",
      "abis -> habis\n",
      "acc -> accord\n",
      "ad -> ada\n",
      "adlah -> adalah\n",
      "adlh -> adalah\n",
      "adoh -> aduh\n",
      "afaik -> as far as i know\n"
     ]
    }
   ],
   "source": [
    "def load_slang_dictionary():\n",
    "    slangwords = {}\n",
    "\n",
    "    def read_file(path, delimiter):\n",
    "        with open(path, 'r', encoding='utf-8') as f:\n",
    "            for line in f:\n",
    "                line = line.strip()\n",
    "                if delimiter not in line or not line:\n",
    "                    continue  # lewati baris yang kosong atau tidak valid\n",
    "                parts = line.split(delimiter, 1)\n",
    "                if len(parts) != 2:\n",
    "                    continue  # lewati jika tetap gagal dibagi jadi 2\n",
    "                key, value = parts\n",
    "                if key and value:\n",
    "                    slangwords[key.lower()] = value.lower()\n",
    "\n",
    "    # Gabungkan dari semua file\n",
    "    read_file(r'C:\\Latihan_Python\\@-proyek-course-dicoding\\proyek_analisis_sentimen\\Indonesian Slang dictionary (from github)\\formalizationDict.txt', '\\t')\n",
    "    read_file(r'C:\\Latihan_Python\\@-proyek-course-dicoding\\proyek_analisis_sentimen\\Indonesian Slang dictionary (from github)\\kbba.txt', '\\t')\n",
    "    read_file(r'C:\\Latihan_Python\\@-proyek-course-dicoding\\proyek_analisis_sentimen\\Indonesian Slang dictionary (from github)\\slangword.txt', ':')\n",
    "\n",
    "    return slangwords\n",
    "\n",
    "# Panggil fungsi\n",
    "slangwords = load_slang_dictionary()\n",
    "\n",
    "# Contoh tampilkan 10 kata\n",
    "for i, (k, v) in enumerate(slangwords.items()):\n",
    "    if i >= 10: break\n",
    "    print(f\"{k} -> {v}\")\n",
    "\n",
    "def fix_slangwords(text, slang_dict):\n",
    "    words = text.split()  # Memecah teks jadi list kata\n",
    "    fixed_words = [slang_dict.get(word.lower(), word) for word in words]  # Ganti jika ada di kamus\n",
    "    return ' '.join(fixed_words)  # Gabung kembali jadi kalimat"
   ]
  },
  {
   "cell_type": "code",
   "execution_count": 17,
   "id": "8984f793",
   "metadata": {},
   "outputs": [],
   "source": [
    "def split_heuristic(text):\n",
    "    # Ganti koma dan kata penghubung umum dengan titik\n",
    "    text = re.sub(r'\\s*(,|namun|tapi|tetapi|meskipun|walaupun|serta)\\s*', '.', text)\n",
    "    \n",
    "    # Pisah berdasarkan titik atau baris baru\n",
    "    sentences = re.split(r'\\.|\\n', text)\n",
    "\n",
    "    # Bersihkan hasil\n",
    "    sentences = [s.strip() for s in sentences if len(s.strip()) > 3]\n",
    "\n",
    "    return sentences\n"
   ]
  },
  {
   "cell_type": "code",
   "execution_count": 19,
   "id": "ea1a2b6a",
   "metadata": {},
   "outputs": [],
   "source": [
    "def normalize_tokens(tokens, norm_dict):\n",
    "    return [norm_dict.get(word, word) for word in tokens]"
   ]
  },
  {
   "cell_type": "code",
   "execution_count": 18,
   "id": "ec099717",
   "metadata": {},
   "outputs": [],
   "source": [
    "custom_normalization = {\n",
    "    \"mantaaap\": \"mantap\",\n",
    "    \"bangett\": \"banget\",\n",
    "    \"kerenn\": \"keren\",\n",
    "    \"prem\": \"premium\",\n",
    "    \"bagusss\": \"bagus\",\n",
    "    \"membantuuu\": \"membantu\",\n",
    "    \"bangettt\": \"banget\",\n",
    "    \"bingunggg\": \"bingung\",\n",
    "    \"sangattt\": \"sangat\",\n",
    "    \"waaaah\": \"wah\",\n",
    "    \"polll\": \"pol\",           \n",
    "    \"tulisannnya\": \"tulisannya\",\n",
    "    \"maziiini\": \"mazii ini\",\n",
    "    \"salahhadehhhh\": \"salah hadeh\",\n",
    "    \"sangaatttt\": \"sangat\",\n",
    "    \"lagiii\": \"lagi\",\n",
    "    \"bagusssss\": \"bagus\",\n",
    "    \"bagusssbisa\": \"bagus bisa\",\n",
    "    \"mantaaapberjamjam\": \"mantap berjam-jam\",\n",
    "    \"waaaaah\": \"wah\",\n",
    "    \"yaaa\": \"ya\",\n",
    "    \"mmmmungkin\": \"mungkin\",\n",
    "    \"bagussss\": \"bagus\",\n",
    "    \"mantappppuuu\": \"mantap\",\n",
    "    \"majuuu\": \"maju\",\n",
    "    \"bagussssss\": \"bagus\",\n",
    "    \"akuuu\": \"aku\",\n",
    "    \"hehheee\": \"hehe\",\n",
    "    \"kerennnn\": \"keren\",\n",
    "    \"makasiii\": \"makasih\",\n",
    "    \"gimanasi\": \"bagaimana sih\",\n",
    "    \"arigato\": \"terima kasih\",\n",
    "    \"arigatou\": \"terima kasih\",\n",
    "    \"radical\": \"radikal\",\n",
    "    \"knji\": \"kanji\",\n",
    "    \"knj\": \"kanji\",\n",
    "}\n"
   ]
  },
  {
   "cell_type": "code",
   "execution_count": 26,
   "id": "5bd26419",
   "metadata": {},
   "outputs": [
    {
     "name": "stdout",
     "output_type": "stream",
     "text": [
      "\u001b[1m1/1\u001b[0m \u001b[32m━━━━━━━━━━━━━━━━━━━━\u001b[0m\u001b[37m\u001b[0m \u001b[1m0s\u001b[0m 182ms/step\n"
     ]
    },
    {
     "data": {
      "text/plain": [
       "'positive'"
      ]
     },
     "execution_count": 26,
     "metadata": {},
     "output_type": "execute_result"
    }
   ],
   "source": [
    "def predict_dl(text):\n",
    "    text_clean = stemmingText(toSentence(filteringText(normalize_tokens(tokenizingText(fix_slangwords(toSentence(split_heuristic(casefoldingText(cleaningText(text)))), slangwords)), custom_normalization))))\n",
    "    seq = tokenizer.texts_to_sequences([text_clean])\n",
    "    pad = pad_sequences(seq, maxlen=MAX_LEN, padding='post', truncating='post')\n",
    "    pred = model.predict(pad)\n",
    "    label_index = pred.argmax()\n",
    "    return label_encoder.inverse_transform([label_index])[0]\n",
    "\n",
    "\n",
    "predict_dl(\"App-nya keren banget! grafik mantap dan seru, bisa belajar kanji bunpo dll dengan gampang!\")"
   ]
  },
  {
   "cell_type": "code",
   "execution_count": 24,
   "id": "147deda3",
   "metadata": {},
   "outputs": [
    {
     "name": "stdout",
     "output_type": "stream",
     "text": [
      "\u001b[1m1/1\u001b[0m \u001b[32m━━━━━━━━━━━━━━━━━━━━\u001b[0m\u001b[37m\u001b[0m \u001b[1m0s\u001b[0m 197ms/step\n"
     ]
    },
    {
     "data": {
      "text/plain": [
       "'neutral'"
      ]
     },
     "execution_count": 24,
     "metadata": {},
     "output_type": "execute_result"
    }
   ],
   "source": [
    "def predict_dl(text):\n",
    "    text_clean = stemmingText(toSentence(filteringText(normalize_tokens(tokenizingText(fix_slangwords(toSentence(split_heuristic(casefoldingText(cleaningText(text)))), slangwords)), custom_normalization))))\n",
    "    seq = tokenizer.texts_to_sequences([text_clean])\n",
    "    pad = pad_sequences(seq, maxlen=MAX_LEN, padding='post', truncating='post')\n",
    "    pred = model.predict(pad)\n",
    "    label_index = pred.argmax()\n",
    "    return label_encoder.inverse_transform([label_index])[0]\n",
    "\n",
    "\n",
    "predict_dl(\"Mungkin bisa update optimalisasinya\")"
   ]
  },
  {
   "cell_type": "code",
   "execution_count": 25,
   "id": "d0333dbf",
   "metadata": {},
   "outputs": [
    {
     "name": "stdout",
     "output_type": "stream",
     "text": [
      "\u001b[1m1/1\u001b[0m \u001b[32m━━━━━━━━━━━━━━━━━━━━\u001b[0m\u001b[37m\u001b[0m \u001b[1m0s\u001b[0m 141ms/step\n"
     ]
    },
    {
     "data": {
      "text/plain": [
       "'negative'"
      ]
     },
     "execution_count": 25,
     "metadata": {},
     "output_type": "execute_result"
    }
   ],
   "source": [
    "def predict_dl(text):\n",
    "    text_clean = stemmingText(toSentence(filteringText(normalize_tokens(tokenizingText(fix_slangwords(toSentence(split_heuristic(casefoldingText(cleaningText(text)))), slangwords)), custom_normalization))))\n",
    "    seq = tokenizer.texts_to_sequences([text_clean])\n",
    "    pad = pad_sequences(seq, maxlen=MAX_LEN, padding='post', truncating='post')\n",
    "    pred = model.predict(pad)\n",
    "    label_index = pred.argmax()\n",
    "    return label_encoder.inverse_transform([label_index])[0]\n",
    "\n",
    "\n",
    "predict_dl(\"Sering bug, grafik burik, lag, berat, dan bikin HP panas, tolong perbaiki!\")"
   ]
  },
  {
   "cell_type": "code",
   "execution_count": null,
   "id": "e2574f86",
   "metadata": {},
   "outputs": [],
   "source": []
  }
 ],
 "metadata": {
  "kernelspec": {
   "display_name": "virtual_env",
   "language": "python",
   "name": "python3"
  },
  "language_info": {
   "codemirror_mode": {
    "name": "ipython",
    "version": 3
   },
   "file_extension": ".py",
   "mimetype": "text/x-python",
   "name": "python",
   "nbconvert_exporter": "python",
   "pygments_lexer": "ipython3",
   "version": "3.11.9"
  }
 },
 "nbformat": 4,
 "nbformat_minor": 5
}
