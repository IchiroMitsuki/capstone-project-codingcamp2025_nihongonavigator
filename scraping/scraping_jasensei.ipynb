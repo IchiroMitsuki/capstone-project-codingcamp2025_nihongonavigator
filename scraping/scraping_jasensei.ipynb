{
 "cells": [
  {
   "cell_type": "code",
   "execution_count": null,
   "id": "fc937c87",
   "metadata": {},
   "outputs": [],
   "source": [
    "#!pip install google-play-scraper pandas"
   ]
  },
  {
   "cell_type": "code",
   "execution_count": 1,
   "id": "a8019281",
   "metadata": {},
   "outputs": [],
   "source": [
    "from google_play_scraper import app, reviews, Sort\n",
    "import pandas as pd\n",
    "import csv"
   ]
  },
  {
   "cell_type": "code",
   "execution_count": 6,
   "id": "49cb1e79",
   "metadata": {},
   "outputs": [],
   "source": [
    "# Scrape data\n",
    "scrapdata, continuation_token = reviews(\n",
    "    'com.japanactivator.android.jasensei', # Package aplikasi\n",
    "    lang='id',           # Komentar berbahasa Indonesia\n",
    "    country='id',        # Negara Indonesia\n",
    "    sort=Sort.MOST_RELEVANT,  # Komentar paling relevan\n",
    "    count=1500          # Ambil sebanyak mungkin (bisa disesuaikan)\n",
    ")"
   ]
  },
  {
   "cell_type": "code",
   "execution_count": 7,
   "id": "ef45e86d",
   "metadata": {},
   "outputs": [],
   "source": [
    "# Menyimpan ulasan dalam file CSV\n",
    "\n",
    "with open('ulasan_jasensei.csv', mode='w', newline='', encoding='utf-8') as file:\n",
    "  writer = csv.writer(file)\n",
    "  writer.writerow(['Review']) # Menulis header kolom\n",
    "  for review in scrapdata:\n",
    "      writer.writerow([review['content']]) # Menulis konten ulasan ke dalam file CSV"
   ]
  },
  {
   "cell_type": "code",
   "execution_count": 8,
   "id": "11f3b301",
   "metadata": {},
   "outputs": [],
   "source": [
    "# Membuat DataFrame dari hasil scrapreview\n",
    "jasensei_reviews_df = pd.DataFrame(scrapdata)\n",
    "\n",
    "# Menghitung jumlah baris dan kolom dalam DataFrame\n",
    "jumlah_ulasan, jumlah_kolom =jasensei_reviews_df.shape"
   ]
  },
  {
   "cell_type": "code",
   "execution_count": 9,
   "id": "1a014403",
   "metadata": {},
   "outputs": [
    {
     "name": "stdout",
     "output_type": "stream",
     "text": [
      "401\n",
      "11\n"
     ]
    }
   ],
   "source": [
    "print(jumlah_ulasan)\n",
    "print(jumlah_kolom)"
   ]
  },
  {
   "cell_type": "code",
   "execution_count": 10,
   "id": "ce6b828d",
   "metadata": {},
   "outputs": [
    {
     "data": {
      "text/html": [
       "<div>\n",
       "<style scoped>\n",
       "    .dataframe tbody tr th:only-of-type {\n",
       "        vertical-align: middle;\n",
       "    }\n",
       "\n",
       "    .dataframe tbody tr th {\n",
       "        vertical-align: top;\n",
       "    }\n",
       "\n",
       "    .dataframe thead th {\n",
       "        text-align: right;\n",
       "    }\n",
       "</style>\n",
       "<table border=\"1\" class=\"dataframe\">\n",
       "  <thead>\n",
       "    <tr style=\"text-align: right;\">\n",
       "      <th></th>\n",
       "      <th>reviewId</th>\n",
       "      <th>userName</th>\n",
       "      <th>userImage</th>\n",
       "      <th>content</th>\n",
       "      <th>score</th>\n",
       "      <th>thumbsUpCount</th>\n",
       "      <th>reviewCreatedVersion</th>\n",
       "      <th>at</th>\n",
       "      <th>replyContent</th>\n",
       "      <th>repliedAt</th>\n",
       "      <th>appVersion</th>\n",
       "    </tr>\n",
       "  </thead>\n",
       "  <tbody>\n",
       "    <tr>\n",
       "      <th>0</th>\n",
       "      <td>c9685ce7-3ab5-4344-acee-aae7c2858bfc</td>\n",
       "      <td>Damai Zefanya Pasaribu</td>\n",
       "      <td>https://play-lh.googleusercontent.com/a-/ALV-U...</td>\n",
       "      <td>Aplikasinya sangat bagus. Dari semua aplikasi ...</td>\n",
       "      <td>5</td>\n",
       "      <td>5</td>\n",
       "      <td>5.9.7</td>\n",
       "      <td>2025-05-17 23:11:33</td>\n",
       "      <td>None</td>\n",
       "      <td>NaT</td>\n",
       "      <td>5.9.7</td>\n",
       "    </tr>\n",
       "    <tr>\n",
       "      <th>1</th>\n",
       "      <td>eec065bd-bed0-4812-b23f-1a96d485e509</td>\n",
       "      <td>Dikka</td>\n",
       "      <td>https://play-lh.googleusercontent.com/a-/ALV-U...</td>\n",
       "      <td>sejauh ini aplikasi ternyaman. Tidak ada iklan...</td>\n",
       "      <td>5</td>\n",
       "      <td>0</td>\n",
       "      <td>5.9.5b</td>\n",
       "      <td>2025-04-05 10:53:30</td>\n",
       "      <td>None</td>\n",
       "      <td>NaT</td>\n",
       "      <td>5.9.5b</td>\n",
       "    </tr>\n",
       "    <tr>\n",
       "      <th>2</th>\n",
       "      <td>d83c6b55-57f7-4c90-bf0a-54a3cb03aee3</td>\n",
       "      <td>Marsiana Akiyan</td>\n",
       "      <td>https://play-lh.googleusercontent.com/a/ACg8oc...</td>\n",
       "      <td>aplikasi nya udah bagus tapi pas saya ingin me...</td>\n",
       "      <td>3</td>\n",
       "      <td>0</td>\n",
       "      <td>5.9.6</td>\n",
       "      <td>2025-05-01 12:16:16</td>\n",
       "      <td>None</td>\n",
       "      <td>NaT</td>\n",
       "      <td>5.9.6</td>\n",
       "    </tr>\n",
       "    <tr>\n",
       "      <th>3</th>\n",
       "      <td>d9ed9da6-2681-4f51-a176-843ab54b5480</td>\n",
       "      <td>riri</td>\n",
       "      <td>https://play-lh.googleusercontent.com/a-/ALV-U...</td>\n",
       "      <td>paling rekomen banget di antara apk yang lain ...</td>\n",
       "      <td>5</td>\n",
       "      <td>1</td>\n",
       "      <td>5.9.6</td>\n",
       "      <td>2025-05-01 16:52:10</td>\n",
       "      <td>None</td>\n",
       "      <td>NaT</td>\n",
       "      <td>5.9.6</td>\n",
       "    </tr>\n",
       "    <tr>\n",
       "      <th>4</th>\n",
       "      <td>5140381b-d650-4539-9db5-5d12803c4281</td>\n",
       "      <td>Cecep Abdul Malik</td>\n",
       "      <td>https://play-lh.googleusercontent.com/a-/ALV-U...</td>\n",
       "      <td>Banyak pelajaran lengkap, gratis, dan offline,...</td>\n",
       "      <td>5</td>\n",
       "      <td>18</td>\n",
       "      <td>5.9.5b</td>\n",
       "      <td>2025-03-06 19:01:05</td>\n",
       "      <td>None</td>\n",
       "      <td>NaT</td>\n",
       "      <td>5.9.5b</td>\n",
       "    </tr>\n",
       "  </tbody>\n",
       "</table>\n",
       "</div>"
      ],
      "text/plain": [
       "                               reviewId                userName  \\\n",
       "0  c9685ce7-3ab5-4344-acee-aae7c2858bfc  Damai Zefanya Pasaribu   \n",
       "1  eec065bd-bed0-4812-b23f-1a96d485e509                   Dikka   \n",
       "2  d83c6b55-57f7-4c90-bf0a-54a3cb03aee3         Marsiana Akiyan   \n",
       "3  d9ed9da6-2681-4f51-a176-843ab54b5480                    riri   \n",
       "4  5140381b-d650-4539-9db5-5d12803c4281       Cecep Abdul Malik   \n",
       "\n",
       "                                           userImage  \\\n",
       "0  https://play-lh.googleusercontent.com/a-/ALV-U...   \n",
       "1  https://play-lh.googleusercontent.com/a-/ALV-U...   \n",
       "2  https://play-lh.googleusercontent.com/a/ACg8oc...   \n",
       "3  https://play-lh.googleusercontent.com/a-/ALV-U...   \n",
       "4  https://play-lh.googleusercontent.com/a-/ALV-U...   \n",
       "\n",
       "                                             content  score  thumbsUpCount  \\\n",
       "0  Aplikasinya sangat bagus. Dari semua aplikasi ...      5              5   \n",
       "1  sejauh ini aplikasi ternyaman. Tidak ada iklan...      5              0   \n",
       "2  aplikasi nya udah bagus tapi pas saya ingin me...      3              0   \n",
       "3  paling rekomen banget di antara apk yang lain ...      5              1   \n",
       "4  Banyak pelajaran lengkap, gratis, dan offline,...      5             18   \n",
       "\n",
       "  reviewCreatedVersion                  at replyContent repliedAt appVersion  \n",
       "0                5.9.7 2025-05-17 23:11:33         None       NaT      5.9.7  \n",
       "1               5.9.5b 2025-04-05 10:53:30         None       NaT     5.9.5b  \n",
       "2                5.9.6 2025-05-01 12:16:16         None       NaT      5.9.6  \n",
       "3                5.9.6 2025-05-01 16:52:10         None       NaT      5.9.6  \n",
       "4               5.9.5b 2025-03-06 19:01:05         None       NaT     5.9.5b  "
      ]
     },
     "execution_count": 10,
     "metadata": {},
     "output_type": "execute_result"
    }
   ],
   "source": [
    "jasensei_reviews_df.head()"
   ]
  },
  {
   "cell_type": "code",
   "execution_count": 11,
   "id": "14ed4b8e",
   "metadata": {},
   "outputs": [
    {
     "name": "stdout",
     "output_type": "stream",
     "text": [
      "<class 'pandas.core.frame.DataFrame'>\n",
      "RangeIndex: 401 entries, 0 to 400\n",
      "Data columns (total 11 columns):\n",
      " #   Column                Non-Null Count  Dtype         \n",
      "---  ------                --------------  -----         \n",
      " 0   reviewId              401 non-null    object        \n",
      " 1   userName              401 non-null    object        \n",
      " 2   userImage             401 non-null    object        \n",
      " 3   content               401 non-null    object        \n",
      " 4   score                 401 non-null    int64         \n",
      " 5   thumbsUpCount         401 non-null    int64         \n",
      " 6   reviewCreatedVersion  308 non-null    object        \n",
      " 7   at                    401 non-null    datetime64[ns]\n",
      " 8   replyContent          23 non-null     object        \n",
      " 9   repliedAt             23 non-null     datetime64[ns]\n",
      " 10  appVersion            308 non-null    object        \n",
      "dtypes: datetime64[ns](2), int64(2), object(7)\n",
      "memory usage: 34.6+ KB\n"
     ]
    }
   ],
   "source": [
    "jasensei_reviews_df.info()"
   ]
  }
 ],
 "metadata": {
  "kernelspec": {
   "display_name": "virtual_env",
   "language": "python",
   "name": "python3"
  },
  "language_info": {
   "codemirror_mode": {
    "name": "ipython",
    "version": 3
   },
   "file_extension": ".py",
   "mimetype": "text/x-python",
   "name": "python",
   "nbconvert_exporter": "python",
   "pygments_lexer": "ipython3",
   "version": "3.11.9"
  }
 },
 "nbformat": 4,
 "nbformat_minor": 5
}
