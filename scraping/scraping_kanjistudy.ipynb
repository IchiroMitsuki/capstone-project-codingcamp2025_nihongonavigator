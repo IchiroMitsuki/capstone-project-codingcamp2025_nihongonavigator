{
 "cells": [
  {
   "cell_type": "code",
   "execution_count": null,
   "id": "fc937c87",
   "metadata": {},
   "outputs": [],
   "source": [
    "#!pip install google-play-scraper pandas"
   ]
  },
  {
   "cell_type": "code",
   "execution_count": 1,
   "id": "a8019281",
   "metadata": {},
   "outputs": [],
   "source": [
    "from google_play_scraper import app, reviews, Sort\n",
    "import pandas as pd\n",
    "import csv"
   ]
  },
  {
   "cell_type": "code",
   "execution_count": 2,
   "id": "49cb1e79",
   "metadata": {},
   "outputs": [],
   "source": [
    "# Scrape data\n",
    "scrapdata, continuation_token = reviews(\n",
    "    'com.mindtwisted.kanjistudy', # Package aplikasi\n",
    "    lang='id',           # Komentar berbahasa Indonesia\n",
    "    country='id',        # Negara Indonesia\n",
    "    sort=Sort.MOST_RELEVANT,  # Komentar paling relevan\n",
    "    count=5000          # Ambil sebanyak mungkin (bisa disesuaikan)\n",
    ")"
   ]
  },
  {
   "cell_type": "code",
   "execution_count": 3,
   "id": "ef45e86d",
   "metadata": {},
   "outputs": [],
   "source": [
    "# Menyimpan ulasan dalam file CSV\n",
    "\n",
    "with open('ulasan_kanjistudy.csv', mode='w', newline='', encoding='utf-8') as file:\n",
    "  writer = csv.writer(file)\n",
    "  writer.writerow(['Review']) # Menulis header kolom\n",
    "  for review in scrapdata:\n",
    "      writer.writerow([review['content']]) # Menulis konten ulasan ke dalam file CSV"
   ]
  },
  {
   "cell_type": "code",
   "execution_count": 4,
   "id": "11f3b301",
   "metadata": {},
   "outputs": [],
   "source": [
    "# Membuat DataFrame dari hasil scrapreview\n",
    "kanjistudy_reviews_df = pd.DataFrame(scrapdata)\n",
    "\n",
    "# Menghitung jumlah baris dan kolom dalam DataFrame\n",
    "jumlah_ulasan, jumlah_kolom =kanjistudy_reviews_df.shape"
   ]
  },
  {
   "cell_type": "code",
   "execution_count": 5,
   "id": "1a014403",
   "metadata": {},
   "outputs": [
    {
     "name": "stdout",
     "output_type": "stream",
     "text": [
      "1116\n",
      "11\n"
     ]
    }
   ],
   "source": [
    "print(jumlah_ulasan)\n",
    "print(jumlah_kolom)"
   ]
  },
  {
   "cell_type": "code",
   "execution_count": 6,
   "id": "ce6b828d",
   "metadata": {},
   "outputs": [
    {
     "data": {
      "text/html": [
       "<div>\n",
       "<style scoped>\n",
       "    .dataframe tbody tr th:only-of-type {\n",
       "        vertical-align: middle;\n",
       "    }\n",
       "\n",
       "    .dataframe tbody tr th {\n",
       "        vertical-align: top;\n",
       "    }\n",
       "\n",
       "    .dataframe thead th {\n",
       "        text-align: right;\n",
       "    }\n",
       "</style>\n",
       "<table border=\"1\" class=\"dataframe\">\n",
       "  <thead>\n",
       "    <tr style=\"text-align: right;\">\n",
       "      <th></th>\n",
       "      <th>reviewId</th>\n",
       "      <th>userName</th>\n",
       "      <th>userImage</th>\n",
       "      <th>content</th>\n",
       "      <th>score</th>\n",
       "      <th>thumbsUpCount</th>\n",
       "      <th>reviewCreatedVersion</th>\n",
       "      <th>at</th>\n",
       "      <th>replyContent</th>\n",
       "      <th>repliedAt</th>\n",
       "      <th>appVersion</th>\n",
       "    </tr>\n",
       "  </thead>\n",
       "  <tbody>\n",
       "    <tr>\n",
       "      <th>0</th>\n",
       "      <td>d1afd88f-8532-4605-bde1-ee5d77617636</td>\n",
       "      <td>Aditya Ilyas</td>\n",
       "      <td>https://play-lh.googleusercontent.com/a-/ALV-U...</td>\n",
       "      <td>Sangat membantu untuk memahami kanji, desain y...</td>\n",
       "      <td>5</td>\n",
       "      <td>10</td>\n",
       "      <td>6.9.0</td>\n",
       "      <td>2025-03-27 12:22:56</td>\n",
       "      <td>None</td>\n",
       "      <td>NaT</td>\n",
       "      <td>6.9.0</td>\n",
       "    </tr>\n",
       "    <tr>\n",
       "      <th>1</th>\n",
       "      <td>c83f8a31-b220-46eb-a48c-9eea83c38f71</td>\n",
       "      <td>Bayu prdana</td>\n",
       "      <td>https://play-lh.googleusercontent.com/a/ACg8oc...</td>\n",
       "      <td>aplikasi ini membantu banget buat yang otodida...</td>\n",
       "      <td>5</td>\n",
       "      <td>4</td>\n",
       "      <td>6.8.4</td>\n",
       "      <td>2025-05-01 11:12:54</td>\n",
       "      <td>None</td>\n",
       "      <td>NaT</td>\n",
       "      <td>6.8.4</td>\n",
       "    </tr>\n",
       "    <tr>\n",
       "      <th>2</th>\n",
       "      <td>8dc6ae7d-1181-466d-8a2d-9d5ef42f3b45</td>\n",
       "      <td>Arifudin</td>\n",
       "      <td>https://play-lh.googleusercontent.com/a-/ALV-U...</td>\n",
       "      <td>kurang sambungan misal Kya kyu kyo terus penje...</td>\n",
       "      <td>4</td>\n",
       "      <td>1</td>\n",
       "      <td>6.9.0</td>\n",
       "      <td>2025-05-14 17:07:05</td>\n",
       "      <td>None</td>\n",
       "      <td>NaT</td>\n",
       "      <td>6.9.0</td>\n",
       "    </tr>\n",
       "    <tr>\n",
       "      <th>3</th>\n",
       "      <td>ef0e661b-5f6e-4efc-93ff-41b890e0e7a0</td>\n",
       "      <td>I love shollakhuddin Kurniawan</td>\n",
       "      <td>https://play-lh.googleusercontent.com/a/ACg8oc...</td>\n",
       "      <td>kanji lengkap, setiap kanji, radikal dan kompo...</td>\n",
       "      <td>5</td>\n",
       "      <td>1</td>\n",
       "      <td>6.9.0</td>\n",
       "      <td>2025-05-20 11:35:56</td>\n",
       "      <td>None</td>\n",
       "      <td>NaT</td>\n",
       "      <td>6.9.0</td>\n",
       "    </tr>\n",
       "    <tr>\n",
       "      <th>4</th>\n",
       "      <td>e52b5a54-4fe4-4815-9d1c-08649a0b7b77</td>\n",
       "      <td>Fajar Nugraha</td>\n",
       "      <td>https://play-lh.googleusercontent.com/a-/ALV-U...</td>\n",
       "      <td>sangat membantu untuk bisa membaca dan mengang...</td>\n",
       "      <td>5</td>\n",
       "      <td>3</td>\n",
       "      <td>6.9.0</td>\n",
       "      <td>2025-04-11 05:11:01</td>\n",
       "      <td>None</td>\n",
       "      <td>NaT</td>\n",
       "      <td>6.9.0</td>\n",
       "    </tr>\n",
       "  </tbody>\n",
       "</table>\n",
       "</div>"
      ],
      "text/plain": [
       "                               reviewId                        userName  \\\n",
       "0  d1afd88f-8532-4605-bde1-ee5d77617636                    Aditya Ilyas   \n",
       "1  c83f8a31-b220-46eb-a48c-9eea83c38f71                     Bayu prdana   \n",
       "2  8dc6ae7d-1181-466d-8a2d-9d5ef42f3b45                        Arifudin   \n",
       "3  ef0e661b-5f6e-4efc-93ff-41b890e0e7a0  I love shollakhuddin Kurniawan   \n",
       "4  e52b5a54-4fe4-4815-9d1c-08649a0b7b77                   Fajar Nugraha   \n",
       "\n",
       "                                           userImage  \\\n",
       "0  https://play-lh.googleusercontent.com/a-/ALV-U...   \n",
       "1  https://play-lh.googleusercontent.com/a/ACg8oc...   \n",
       "2  https://play-lh.googleusercontent.com/a-/ALV-U...   \n",
       "3  https://play-lh.googleusercontent.com/a/ACg8oc...   \n",
       "4  https://play-lh.googleusercontent.com/a-/ALV-U...   \n",
       "\n",
       "                                             content  score  thumbsUpCount  \\\n",
       "0  Sangat membantu untuk memahami kanji, desain y...      5             10   \n",
       "1  aplikasi ini membantu banget buat yang otodida...      5              4   \n",
       "2  kurang sambungan misal Kya kyu kyo terus penje...      4              1   \n",
       "3  kanji lengkap, setiap kanji, radikal dan kompo...      5              1   \n",
       "4  sangat membantu untuk bisa membaca dan mengang...      5              3   \n",
       "\n",
       "  reviewCreatedVersion                  at replyContent repliedAt appVersion  \n",
       "0                6.9.0 2025-03-27 12:22:56         None       NaT      6.9.0  \n",
       "1                6.8.4 2025-05-01 11:12:54         None       NaT      6.8.4  \n",
       "2                6.9.0 2025-05-14 17:07:05         None       NaT      6.9.0  \n",
       "3                6.9.0 2025-05-20 11:35:56         None       NaT      6.9.0  \n",
       "4                6.9.0 2025-04-11 05:11:01         None       NaT      6.9.0  "
      ]
     },
     "execution_count": 6,
     "metadata": {},
     "output_type": "execute_result"
    }
   ],
   "source": [
    "kanjistudy_reviews_df.head()"
   ]
  },
  {
   "cell_type": "code",
   "execution_count": 7,
   "id": "14ed4b8e",
   "metadata": {},
   "outputs": [
    {
     "name": "stdout",
     "output_type": "stream",
     "text": [
      "<class 'pandas.core.frame.DataFrame'>\n",
      "RangeIndex: 1116 entries, 0 to 1115\n",
      "Data columns (total 11 columns):\n",
      " #   Column                Non-Null Count  Dtype         \n",
      "---  ------                --------------  -----         \n",
      " 0   reviewId              1116 non-null   object        \n",
      " 1   userName              1116 non-null   object        \n",
      " 2   userImage             1116 non-null   object        \n",
      " 3   content               1116 non-null   object        \n",
      " 4   score                 1116 non-null   int64         \n",
      " 5   thumbsUpCount         1116 non-null   int64         \n",
      " 6   reviewCreatedVersion  802 non-null    object        \n",
      " 7   at                    1116 non-null   datetime64[ns]\n",
      " 8   replyContent          253 non-null    object        \n",
      " 9   repliedAt             253 non-null    datetime64[ns]\n",
      " 10  appVersion            802 non-null    object        \n",
      "dtypes: datetime64[ns](2), int64(2), object(7)\n",
      "memory usage: 96.0+ KB\n"
     ]
    }
   ],
   "source": [
    "kanjistudy_reviews_df.info()"
   ]
  }
 ],
 "metadata": {
  "kernelspec": {
   "display_name": "virtual_env",
   "language": "python",
   "name": "python3"
  },
  "language_info": {
   "codemirror_mode": {
    "name": "ipython",
    "version": 3
   },
   "file_extension": ".py",
   "mimetype": "text/x-python",
   "name": "python",
   "nbconvert_exporter": "python",
   "pygments_lexer": "ipython3",
   "version": "3.11.9"
  }
 },
 "nbformat": 4,
 "nbformat_minor": 5
}
