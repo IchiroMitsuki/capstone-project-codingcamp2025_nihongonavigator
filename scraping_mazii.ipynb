{
 "cells": [
  {
   "cell_type": "code",
   "execution_count": 1,
   "id": "fc937c87",
   "metadata": {},
   "outputs": [],
   "source": [
    "#!pip install google-play-scraper pandas"
   ]
  },
  {
   "cell_type": "code",
   "execution_count": 2,
   "id": "a8019281",
   "metadata": {},
   "outputs": [],
   "source": [
    "from google_play_scraper import app, reviews, Sort\n",
    "import pandas as pd\n",
    "import csv"
   ]
  },
  {
   "cell_type": "code",
   "execution_count": 3,
   "id": "49cb1e79",
   "metadata": {},
   "outputs": [],
   "source": [
    "# Scrape data\n",
    "scrapdata, continuation_token = reviews(\n",
    "    'com.mazii.dictionary', # Package aplikasi\n",
    "    lang='id',           # Komentar berbahasa Indonesia\n",
    "    country='id',        # Negara Indonesia\n",
    "    sort=Sort.MOST_RELEVANT,  # Komentar paling relevan\n",
    "    count=5000          # Ambil sebanyak mungkin (bisa disesuaikan)\n",
    ")"
   ]
  },
  {
   "cell_type": "code",
   "execution_count": 4,
   "id": "ef45e86d",
   "metadata": {},
   "outputs": [],
   "source": [
    "# Menyimpan ulasan dalam file CSV\n",
    "\n",
    "with open('ulasan_Mazii.csv', mode='w', newline='', encoding='utf-8') as file:\n",
    "  writer = csv.writer(file)\n",
    "  writer.writerow(['Review']) # Menulis header kolom\n",
    "  for review in scrapdata:\n",
    "      writer.writerow([review['content']]) # Menulis konten ulasan ke dalam file CSV"
   ]
  },
  {
   "cell_type": "code",
   "execution_count": 5,
   "id": "11f3b301",
   "metadata": {},
   "outputs": [],
   "source": [
    "# Membuat DataFrame dari hasil scrapreview\n",
    "mazii_reviews_df = pd.DataFrame(scrapdata)\n",
    "\n",
    "# Menghitung jumlah baris dan kolom dalam DataFrame\n",
    "jumlah_ulasan, jumlah_kolom =mazii_reviews_df.shape"
   ]
  },
  {
   "cell_type": "code",
   "execution_count": 6,
   "id": "1a014403",
   "metadata": {},
   "outputs": [
    {
     "name": "stdout",
     "output_type": "stream",
     "text": [
      "2725\n",
      "11\n"
     ]
    }
   ],
   "source": [
    "print(jumlah_ulasan)\n",
    "print(jumlah_kolom)"
   ]
  },
  {
   "cell_type": "code",
   "execution_count": 7,
   "id": "ce6b828d",
   "metadata": {},
   "outputs": [
    {
     "data": {
      "text/html": [
       "<div>\n",
       "<style scoped>\n",
       "    .dataframe tbody tr th:only-of-type {\n",
       "        vertical-align: middle;\n",
       "    }\n",
       "\n",
       "    .dataframe tbody tr th {\n",
       "        vertical-align: top;\n",
       "    }\n",
       "\n",
       "    .dataframe thead th {\n",
       "        text-align: right;\n",
       "    }\n",
       "</style>\n",
       "<table border=\"1\" class=\"dataframe\">\n",
       "  <thead>\n",
       "    <tr style=\"text-align: right;\">\n",
       "      <th></th>\n",
       "      <th>reviewId</th>\n",
       "      <th>userName</th>\n",
       "      <th>userImage</th>\n",
       "      <th>content</th>\n",
       "      <th>score</th>\n",
       "      <th>thumbsUpCount</th>\n",
       "      <th>reviewCreatedVersion</th>\n",
       "      <th>at</th>\n",
       "      <th>replyContent</th>\n",
       "      <th>repliedAt</th>\n",
       "      <th>appVersion</th>\n",
       "    </tr>\n",
       "  </thead>\n",
       "  <tbody>\n",
       "    <tr>\n",
       "      <th>0</th>\n",
       "      <td>30d5463d-1857-458a-b545-2c0a01777e66</td>\n",
       "      <td>Pengguna Google</td>\n",
       "      <td>https://play-lh.googleusercontent.com/EGemoI2N...</td>\n",
       "      <td>pada fitur terjemahan dengan gambar, hampir se...</td>\n",
       "      <td>1</td>\n",
       "      <td>0</td>\n",
       "      <td>6.3.0</td>\n",
       "      <td>2025-04-22 07:10:05</td>\n",
       "      <td>Hai, terima kasih atas ulasan Anda. Kami akan ...</td>\n",
       "      <td>2025-04-27 15:22:50</td>\n",
       "      <td>6.3.0</td>\n",
       "    </tr>\n",
       "    <tr>\n",
       "      <th>1</th>\n",
       "      <td>e581b7aa-7e20-465d-9957-9b8ba983ef45</td>\n",
       "      <td>Pengguna Google</td>\n",
       "      <td>https://play-lh.googleusercontent.com/EGemoI2N...</td>\n",
       "      <td>Tolong hapus iklan di bawah nyaaa, itu sangat ...</td>\n",
       "      <td>3</td>\n",
       "      <td>0</td>\n",
       "      <td>6.4.0</td>\n",
       "      <td>2025-06-03 12:40:34</td>\n",
       "      <td>None</td>\n",
       "      <td>NaT</td>\n",
       "      <td>6.4.0</td>\n",
       "    </tr>\n",
       "    <tr>\n",
       "      <th>2</th>\n",
       "      <td>9406c9d6-cc1d-4cd3-be27-a5e9ca527f04</td>\n",
       "      <td>Pengguna Google</td>\n",
       "      <td>https://play-lh.googleusercontent.com/EGemoI2N...</td>\n",
       "      <td>aplikasi nya bagus dan kalau bisa mohon jadika...</td>\n",
       "      <td>5</td>\n",
       "      <td>84</td>\n",
       "      <td>6.2.7</td>\n",
       "      <td>2025-04-07 22:32:28</td>\n",
       "      <td>Terima kasih atas ulasan Anda! Harap rekomenda...</td>\n",
       "      <td>2025-04-07 22:10:09</td>\n",
       "      <td>6.2.7</td>\n",
       "    </tr>\n",
       "    <tr>\n",
       "      <th>3</th>\n",
       "      <td>84b31fe0-eb27-48ab-bb39-5a73b905f92a</td>\n",
       "      <td>Pengguna Google</td>\n",
       "      <td>https://play-lh.googleusercontent.com/EGemoI2N...</td>\n",
       "      <td>overall buat latihan kanji atau kotoba nya oke...</td>\n",
       "      <td>2</td>\n",
       "      <td>3</td>\n",
       "      <td>6.2.7</td>\n",
       "      <td>2025-03-31 18:46:12</td>\n",
       "      <td>Hai, terima kasih atas ulasan Anda. Harap perb...</td>\n",
       "      <td>2025-04-07 21:59:38</td>\n",
       "      <td>6.2.7</td>\n",
       "    </tr>\n",
       "    <tr>\n",
       "      <th>4</th>\n",
       "      <td>a1e715ba-8787-45c6-a081-df40196bd5a8</td>\n",
       "      <td>Pengguna Google</td>\n",
       "      <td>https://play-lh.googleusercontent.com/EGemoI2N...</td>\n",
       "      <td>setelah beberapa hari premium seumur hidup lal...</td>\n",
       "      <td>1</td>\n",
       "      <td>4</td>\n",
       "      <td>6.2.1</td>\n",
       "      <td>2025-03-27 16:23:20</td>\n",
       "      <td>Hai, maaf atas hal ini. Kita perlu mengeluarka...</td>\n",
       "      <td>2025-03-30 19:44:10</td>\n",
       "      <td>6.2.1</td>\n",
       "    </tr>\n",
       "  </tbody>\n",
       "</table>\n",
       "</div>"
      ],
      "text/plain": [
       "                               reviewId         userName  \\\n",
       "0  30d5463d-1857-458a-b545-2c0a01777e66  Pengguna Google   \n",
       "1  e581b7aa-7e20-465d-9957-9b8ba983ef45  Pengguna Google   \n",
       "2  9406c9d6-cc1d-4cd3-be27-a5e9ca527f04  Pengguna Google   \n",
       "3  84b31fe0-eb27-48ab-bb39-5a73b905f92a  Pengguna Google   \n",
       "4  a1e715ba-8787-45c6-a081-df40196bd5a8  Pengguna Google   \n",
       "\n",
       "                                           userImage  \\\n",
       "0  https://play-lh.googleusercontent.com/EGemoI2N...   \n",
       "1  https://play-lh.googleusercontent.com/EGemoI2N...   \n",
       "2  https://play-lh.googleusercontent.com/EGemoI2N...   \n",
       "3  https://play-lh.googleusercontent.com/EGemoI2N...   \n",
       "4  https://play-lh.googleusercontent.com/EGemoI2N...   \n",
       "\n",
       "                                             content  score  thumbsUpCount  \\\n",
       "0  pada fitur terjemahan dengan gambar, hampir se...      1              0   \n",
       "1  Tolong hapus iklan di bawah nyaaa, itu sangat ...      3              0   \n",
       "2  aplikasi nya bagus dan kalau bisa mohon jadika...      5             84   \n",
       "3  overall buat latihan kanji atau kotoba nya oke...      2              3   \n",
       "4  setelah beberapa hari premium seumur hidup lal...      1              4   \n",
       "\n",
       "  reviewCreatedVersion                  at  \\\n",
       "0                6.3.0 2025-04-22 07:10:05   \n",
       "1                6.4.0 2025-06-03 12:40:34   \n",
       "2                6.2.7 2025-04-07 22:32:28   \n",
       "3                6.2.7 2025-03-31 18:46:12   \n",
       "4                6.2.1 2025-03-27 16:23:20   \n",
       "\n",
       "                                        replyContent           repliedAt  \\\n",
       "0  Hai, terima kasih atas ulasan Anda. Kami akan ... 2025-04-27 15:22:50   \n",
       "1                                               None                 NaT   \n",
       "2  Terima kasih atas ulasan Anda! Harap rekomenda... 2025-04-07 22:10:09   \n",
       "3  Hai, terima kasih atas ulasan Anda. Harap perb... 2025-04-07 21:59:38   \n",
       "4  Hai, maaf atas hal ini. Kita perlu mengeluarka... 2025-03-30 19:44:10   \n",
       "\n",
       "  appVersion  \n",
       "0      6.3.0  \n",
       "1      6.4.0  \n",
       "2      6.2.7  \n",
       "3      6.2.7  \n",
       "4      6.2.1  "
      ]
     },
     "execution_count": 7,
     "metadata": {},
     "output_type": "execute_result"
    }
   ],
   "source": [
    "mazii_reviews_df.head()"
   ]
  },
  {
   "cell_type": "code",
   "execution_count": 8,
   "id": "14ed4b8e",
   "metadata": {},
   "outputs": [
    {
     "name": "stdout",
     "output_type": "stream",
     "text": [
      "<class 'pandas.core.frame.DataFrame'>\n",
      "RangeIndex: 2725 entries, 0 to 2724\n",
      "Data columns (total 11 columns):\n",
      " #   Column                Non-Null Count  Dtype         \n",
      "---  ------                --------------  -----         \n",
      " 0   reviewId              2725 non-null   object        \n",
      " 1   userName              2725 non-null   object        \n",
      " 2   userImage             2725 non-null   object        \n",
      " 3   content               2725 non-null   object        \n",
      " 4   score                 2725 non-null   int64         \n",
      " 5   thumbsUpCount         2725 non-null   int64         \n",
      " 6   reviewCreatedVersion  2387 non-null   object        \n",
      " 7   at                    2725 non-null   datetime64[ns]\n",
      " 8   replyContent          2641 non-null   object        \n",
      " 9   repliedAt             2641 non-null   datetime64[ns]\n",
      " 10  appVersion            2387 non-null   object        \n",
      "dtypes: datetime64[ns](2), int64(2), object(7)\n",
      "memory usage: 234.3+ KB\n"
     ]
    }
   ],
   "source": [
    "mazii_reviews_df.info()"
   ]
  }
 ],
 "metadata": {
  "kernelspec": {
   "display_name": "virtual_env",
   "language": "python",
   "name": "python3"
  },
  "language_info": {
   "codemirror_mode": {
    "name": "ipython",
    "version": 3
   },
   "file_extension": ".py",
   "mimetype": "text/x-python",
   "name": "python",
   "nbconvert_exporter": "python",
   "pygments_lexer": "ipython3",
   "version": "3.11.9"
  }
 },
 "nbformat": 4,
 "nbformat_minor": 5
}
